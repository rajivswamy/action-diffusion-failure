{
 "cells": [
  {
   "cell_type": "code",
   "execution_count": 1,
   "metadata": {},
   "outputs": [],
   "source": [
    "#@markdown ### **Imports**\n",
    "# diffusion policy import\n",
    "from typing import Tuple, Sequence, Dict, Union, Optional, Callable\n",
    "import numpy as np\n",
    "import math\n",
    "import torch\n",
    "import torch.nn as nn\n",
    "import torchvision\n",
    "import collections\n",
    "import zarr\n",
    "from diffusers.schedulers.scheduling_ddpm import DDPMScheduler\n",
    "from diffusers.training_utils import EMAModel\n",
    "from diffusers.optimization import get_scheduler\n",
    "from tqdm import tqdm\n",
    "from PIL import Image\n",
    "from skvideo.io import vwrite\n",
    "from IPython.display import Video\n",
    "\n",
    "# data imports\n",
    "from  src.dataset import get_dataset_pusht\n",
    "# model imports\n",
    "from src.policy import get_action_diffusion_model, load_checkpoint \n",
    "# train import\n",
    "from src.train import train_diff_model\n",
    "# env import\n",
    "from src.envs.sim_pusht import PushTImageEnv\n",
    "# rollout import\n",
    "from src.rollout import rollout"
   ]
  },
  {
   "cell_type": "markdown",
   "metadata": {},
   "source": [
    "### Global Config Variables"
   ]
  },
  {
   "cell_type": "code",
   "execution_count": 2,
   "metadata": {},
   "outputs": [],
   "source": [
    "dataset_path = 'demo/pusht_cchi_v7_replay.zarr.zip'\n",
    "pred_horizon = 16\n",
    "obs_horizon = 2\n",
    "action_horizon = 8\n",
    "\n",
    "device = \"cuda\"\n",
    "encoder_name = \"resnet18\"\n",
    "vision_feature_dim = 512\n",
    "lowdim_obs_dim = 2\n",
    "action_dim = 2\n",
    "\n",
    "num_epochs = 100\n",
    "batch_size = 64\n",
    "num_workers = 4\n",
    "num_diffusion_iters = 100"
   ]
  },
  {
   "cell_type": "markdown",
   "metadata": {},
   "source": [
    "### Testing General Env"
   ]
  },
  {
   "cell_type": "code",
   "execution_count": 3,
   "metadata": {},
   "outputs": [
    {
     "name": "stdout",
     "output_type": "stream",
     "text": [
      "Creating PushT Env with seed 0.\n"
     ]
    },
    {
     "data": {
      "image/jpeg": "[encoded data removed]",
      "image/png": "[encoded data removed]",
      "text/plain": [
       "<PIL.Image.Image image mode=RGB size=96x96>"
      ]
     },
     "execution_count": 3,
     "metadata": {},
     "output_type": "execute_result"
    }
   ],
   "source": [
    "env = PushTImageEnv(seed=0)\n",
    "obs, info = env.reset()\n",
    "img = env.render(mode='rgb_array')\n",
    "im = Image.fromarray(img)\n",
    "im"
   ]
  },
  {
   "cell_type": "markdown",
   "metadata": {},
   "source": [
    "### Testing dataset, model, and train functions"
   ]
  },
  {
   "cell_type": "code",
   "execution_count": 4,
   "metadata": {},
   "outputs": [],
   "source": [
    "dataset, stats = get_dataset_pusht(dataset_path, pred_horizon, obs_horizon, action_horizon)"
   ]
  },
  {
   "cell_type": "code",
   "execution_count": 6,
   "metadata": {},
   "outputs": [
    {
     "name": "stdout",
     "output_type": "stream",
     "text": [
      "number of parameters: 7.994727e+07\n",
      "Loaded model from demo/ema_100ep.pt\n"
     ]
    }
   ],
   "source": [
    "checkpoint_path = \"demo/ema_100ep.pt\"\n",
    "\n",
    "nets = get_action_diffusion_model(\n",
    "    device=device,\n",
    "    encoder_name=encoder_name,\n",
    "    vision_feature_dim=vision_feature_dim,\n",
    "    lowdim_obs_dim=lowdim_obs_dim,\n",
    "    action_dim=action_dim,\n",
    "    obs_horizon=obs_horizon\n",
    ")\n",
    "\n",
    "load_checkpoint(model=nets, checkpoint_path=checkpoint_path, device=device)"
   ]
  },
  {
   "cell_type": "code",
   "execution_count": null,
   "metadata": {},
   "outputs": [],
   "source": [
    "logdir = \"logs/train/test_default\"\n",
    "\n",
    "nets, losses = train_diff_model(\n",
    "    nets=nets,\n",
    "    dataset=dataset,\n",
    "    logdir=logdir,\n",
    "    num_epochs=num_epochs,\n",
    "    batch_size=batch_size,\n",
    "    num_workers=num_workers,\n",
    "    device=device,\n",
    "    num_diffusion_iters=num_diffusion_iters,\n",
    "    obs_horizon=obs_horizon\n",
    ")"
   ]
  },
  {
   "cell_type": "markdown",
   "metadata": {},
   "source": [
    "### Testing the roll out code"
   ]
  },
  {
   "cell_type": "code",
   "execution_count": 6,
   "metadata": {},
   "outputs": [
    {
     "name": "stdout",
     "output_type": "stream",
     "text": [
      "number of parameters: 7.994727e+07\n",
      "Loaded model from logs/train/test_default/pusht_vision_200ep.pth\n",
      "Creating PushT Env with seed 100000.\n"
     ]
    },
    {
     "name": "stderr",
     "output_type": "stream",
     "text": [
      "Eval PushTImageEnv:  63%|██████▎   | 126/200 [00:14<00:08,  8.90it/s, reward=1]    \n"
     ]
    },
    {
     "data": {
      "text/html": [
       "<video controls  width=\"256\"  height=\"256\">\n",
       " <source src=\"data:video/mp4;base64,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\" type=\"video/mp4\">\n",
       " Your browser does not support the video tag.\n",
       " </video>"
      ],
      "text/plain": [
       "<IPython.core.display.Video object>"
      ]
     },
     "execution_count": 6,
     "metadata": {},
     "output_type": "execute_result"
    }
   ],
   "source": [
    "# load the trained model\n",
    "checkpoint_path = \"logs/train/test_default/pusht_vision_200ep.pth\"\n",
    "\n",
    "nets = get_action_diffusion_model(\n",
    "    device=device,\n",
    "    encoder_name=encoder_name,\n",
    "    vision_feature_dim=vision_feature_dim,\n",
    "    lowdim_obs_dim=lowdim_obs_dim,\n",
    "    action_dim=action_dim,\n",
    "    obs_horizon=obs_horizon\n",
    ")\n",
    "\n",
    "load_checkpoint(model=nets, checkpoint_path=checkpoint_path, device=device)\n",
    "\n",
    "# init the environment\n",
    "env = PushTImageEnv(seed=100000)\n",
    "\n",
    "\n",
    "rollout_data = rollout(ema_nets=nets,\n",
    "                       env=env,\n",
    "                       stats=stats,\n",
    "                       max_steps=200,\n",
    "                       obs_horizon=obs_horizon,\n",
    "                       pred_horizon=pred_horizon,\n",
    "                       device=device,\n",
    "                       num_diffusion_iters=num_diffusion_iters,\n",
    "                       action_dim=action_dim,\n",
    "                       trajectory_sample_size=128)\n",
    "\n",
    "# visualize the video\n",
    "imgs = rollout_data['images']\n",
    "\n",
    "vwrite('vis.mp4', imgs)\n",
    "Video('vis.mp4', embed=True, width=256, height=256)"
   ]
  },
  {
   "cell_type": "code",
   "execution_count": 9,
   "metadata": {},
   "outputs": [
    {
     "name": "stdout",
     "output_type": "stream",
     "text": [
      "timesteps 201 <class 'int'>\n",
      "images 201 <class 'numpy.ndarray'>\n",
      "rewards 201 <class 'numpy.float64'>\n",
      "sampled_trajectories 201 <class 'numpy.ndarray'>\n",
      "actions 201 <class 'numpy.ndarray'>\n",
      "agent_positions 201 <class 'numpy.ndarray'>\n",
      "agent_velocities 201 <class 'numpy.ndarray'>\n",
      "block_poses 201 <class 'numpy.ndarray'>\n",
      "goal_poses 201 <class 'numpy.ndarray'>\n",
      "step_image_features 201 <class 'numpy.ndarray'>\n"
     ]
    }
   ],
   "source": [
    "# check the length of each key in the data\n",
    "for k, v in rollout_data.items():\n",
    "    print(k, len(v), type(v[0]))"
   ]
  },
  {
   "cell_type": "markdown",
   "metadata": {},
   "source": [
    "### Evaluating the rollout datasets with the base 100 epoch checkpoint"
   ]
  },
  {
   "cell_type": "code",
   "execution_count": 15,
   "metadata": {},
   "outputs": [
    {
     "name": "stdout",
     "output_type": "stream",
     "text": [
      "Total # of Successes:  53\n",
      "Success rate:  0.17666666666666667\n"
     ]
    }
   ],
   "source": [
    "import glob\n",
    "import os\n",
    "dir = \"logs/datasets/no_domain_randomization\" \n",
    "# check how many files there are matching name\n",
    "total_episodes = glob.glob(os.path.join(dir, \"episode_*.pkl\"))\n",
    "success_episodes = glob.glob(os.path.join(dir, \"episode_*_success.pkl\"))\n",
    "rate = len(success_episodes) / len(total_episodes)\n",
    "print(\"Total # of Successes: \", len(success_episodes))\n",
    "print(\"Success rate: \", rate)"
   ]
  }
 ],
 "metadata": {
  "kernelspec": {
   "display_name": "sentinel",
   "language": "python",
   "name": "python3"
  },
  "language_info": {
   "codemirror_mode": {
    "name": "ipython",
    "version": 3
   },
   "file_extension": ".py",
   "mimetype": "text/x-python",
   "name": "python",
   "nbconvert_exporter": "python",
   "pygments_lexer": "ipython3",
   "version": "3.10.13"
  }
 },
 "nbformat": 4,
 "nbformat_minor": 2
}
