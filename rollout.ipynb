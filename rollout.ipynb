{
 "cells": [
  {
   "cell_type": "code",
   "execution_count": 1,
   "metadata": {},
   "outputs": [],
   "source": [
    "#@markdown ### **Imports**\n",
    "# diffusion policy import\n",
    "from typing import Tuple, Sequence, Dict, Union, Optional, Callable\n",
    "import numpy as np\n",
    "import math\n",
    "import torch\n",
    "import torch.nn as nn\n",
    "import torchvision\n",
    "import collections\n",
    "import zarr\n",
    "from diffusers.schedulers.scheduling_ddpm import DDPMScheduler\n",
    "from diffusers.training_utils import EMAModel\n",
    "from diffusers.optimization import get_scheduler\n",
    "from tqdm import tqdm\n",
    "from PIL import Image\n",
    "from skvideo.io import vwrite\n",
    "from IPython.display import Video\n",
    "\n",
    "# data imports\n",
    "from  src.dataset import get_dataset_pusht\n",
    "# model imports\n",
    "from src.policy import get_action_diffusion_model, load_checkpoint \n",
    "# train import\n",
    "from src.train import train_diff_model\n",
    "# env import\n",
    "from src.envs.sim_pusht import PushTImageEnv\n",
    "# rollout import\n",
    "from src.rollout import rollout"
   ]
  },
  {
   "cell_type": "markdown",
   "metadata": {},
   "source": [
    "### Global Config Variables"
   ]
  },
  {
   "cell_type": "code",
   "execution_count": 2,
   "metadata": {},
   "outputs": [],
   "source": [
    "dataset_path = 'demo/pusht_cchi_v7_replay.zarr.zip'\n",
    "pred_horizon = 16\n",
    "obs_horizon = 2\n",
    "action_horizon = 8\n",
    "\n",
    "device = \"cuda:0\"\n",
    "encoder_name = \"resnet18\"\n",
    "vision_feature_dim = 512\n",
    "lowdim_obs_dim = 2\n",
    "action_dim = 2\n",
    "\n",
    "num_epochs = 100\n",
    "batch_size = 64\n",
    "num_workers = 4\n",
    "num_diffusion_iters = 100"
   ]
  },
  {
   "cell_type": "markdown",
   "metadata": {},
   "source": [
    "### Testing General Env"
   ]
  },
  {
   "cell_type": "code",
   "execution_count": 3,
   "metadata": {},
   "outputs": [
    {
     "name": "stdout",
     "output_type": "stream",
     "text": [
      "Creating PushT Env with seed 0.\n"
     ]
    },
    {
     "data": {
      "image/jpeg": "[encoded data removed]",
      "image/png": "[encoded data removed]",
      "text/plain": [
       "<PIL.Image.Image image mode=RGB size=96x96>"
      ]
     },
     "execution_count": 3,
     "metadata": {},
     "output_type": "execute_result"
    }
   ],
   "source": [
    "env = PushTImageEnv(seed=0)\n",
    "obs, info = env.reset()\n",
    "img = env.render(mode='rgb_array')\n",
    "im = Image.fromarray(img)\n",
    "im"
   ]
  },
  {
   "cell_type": "markdown",
   "metadata": {},
   "source": [
    "### Testing dataset, model, and train functions"
   ]
  },
  {
   "cell_type": "code",
   "execution_count": 4,
   "metadata": {},
   "outputs": [],
   "source": [
    "dataset, stats = get_dataset_pusht(dataset_path, pred_horizon, obs_horizon, action_horizon)"
   ]
  },
  {
   "cell_type": "code",
   "execution_count": null,
   "metadata": {},
   "outputs": [
    {
     "name": "stdout",
     "output_type": "stream",
     "text": [
      "number of parameters: 7.994727e+07\n",
      "Loaded model from demo/ema_100ep.pt\n"
     ]
    }
   ],
   "source": [
    "checkpoint_path = \"demo/ema_100ep.pt\"\n",
    "\n",
    "nets = get_action_diffusion_model(\n",
    "    device=device,\n",
    "    encoder_name=encoder_name,\n",
    "    vision_feature_dim=vision_feature_dim,\n",
    "    lowdim_obs_dim=lowdim_obs_dim,\n",
    "    action_dim=action_dim,\n",
    "    obs_horizon=obs_horizon\n",
    ")\n",
    "\n",
    "load_checkpoint(model=nets, checkpoint_path=checkpoint_path, device=device)"
   ]
  },
  {
   "cell_type": "code",
   "execution_count": null,
   "metadata": {},
   "outputs": [],
   "source": [
    "logdir = \"logs/train/test_default\"\n",
    "\n",
    "nets, losses = train_diff_model(\n",
    "    nets=nets,\n",
    "    dataset=dataset,\n",
    "    logdir=logdir,\n",
    "    num_epochs=num_epochs,\n",
    "    batch_size=batch_size,\n",
    "    num_workers=num_workers,\n",
    "    device=device,\n",
    "    num_diffusion_iters=num_diffusion_iters,\n",
    "    obs_horizon=obs_horizon\n",
    ")"
   ]
  },
  {
   "cell_type": "markdown",
   "metadata": {},
   "source": [
    "### Testing the roll out code"
   ]
  },
  {
   "cell_type": "code",
   "execution_count": 3,
   "metadata": {},
   "outputs": [
    {
     "name": "stdout",
     "output_type": "stream",
     "text": [
      "number of parameters: 7.994727e+07\n",
      "Loaded model from demo/ema_100ep_pretrained_paper.pth\n",
      "Creating PushT Env with seed 100000.\n"
     ]
    },
    {
     "name": "stderr",
     "output_type": "stream",
     "text": [
      "Eval PushTImageEnv:  44%|████▍     | 132/300 [00:10<00:13, 12.10it/s, reward=1]      "
     ]
    },
    {
     "name": "stdout",
     "output_type": "stream",
     "text": [
      "Rollout succeeded!\n"
     ]
    },
    {
     "name": "stderr",
     "output_type": "stream",
     "text": [
      "\n"
     ]
    },
    {
     "data": {
      "text/html": [
       "<video controls  width=\"256\"  height=\"256\">\n",
       " <source src=\"data:video/mp4;base64,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\" type=\"video/mp4\">\n",
       " Your browser does not support the video tag.\n",
       " </video>"
      ],
      "text/plain": [
       "<IPython.core.display.Video object>"
      ]
     },
     "execution_count": 3,
     "metadata": {},
     "output_type": "execute_result"
    }
   ],
   "source": [
    "dataset, stats = get_dataset_pusht(dataset_path, pred_horizon, obs_horizon, action_horizon)\n",
    "\n",
    "\n",
    "# load the trained model\n",
    "# checkpoint_path = \"checkpoint_ema_epoch_2500.pth\"\n",
    "checkpoint_path = \"demo/ema_100ep_pretrained_paper.pth\"\n",
    "\n",
    "nets = get_action_diffusion_model(\n",
    "    device=device,\n",
    "    encoder_name=encoder_name,\n",
    "    vision_feature_dim=vision_feature_dim,\n",
    "    lowdim_obs_dim=lowdim_obs_dim,\n",
    "    action_dim=action_dim,\n",
    "    obs_horizon=obs_horizon\n",
    ")\n",
    "\n",
    "load_checkpoint(model=nets, checkpoint_path=checkpoint_path, device=device)\n",
    "\n",
    "# init the environment\n",
    "env = PushTImageEnv(seed=100000)\n",
    "\n",
    "rollout_data, success = rollout(ema_nets=nets,\n",
    "                       env=env,\n",
    "                       stats=stats,\n",
    "                       max_steps=300,\n",
    "                       obs_horizon=obs_horizon,\n",
    "                       action_horizon=action_horizon,\n",
    "                       pred_horizon=pred_horizon,\n",
    "                       device=device,\n",
    "                       num_diffusion_iters=num_diffusion_iters,\n",
    "                       action_dim=action_dim,\n",
    "                       trajectory_sample_size=1)\n",
    "\n",
    "if success:\n",
    "    print(\"Rollout succeeded!\")\n",
    "\n",
    "# visualize the video\n",
    "rgb_lists = rollout_data['rgb']\n",
    "\n",
    "imgs = sum(rgb_lists, [])\n",
    "\n",
    "vwrite('vis.mp4', imgs)\n",
    "Video('vis.mp4', embed=True, width=256, height=256)"
   ]
  },
  {
   "cell_type": "code",
   "execution_count": 5,
   "metadata": {},
   "outputs": [
    {
     "name": "stdout",
     "output_type": "stream",
     "text": [
      "timestep 17\n",
      "rgb 17\n",
      "reward 17\n",
      "sampled_actions 17\n",
      "executed_action 17\n",
      "action_index 17\n",
      "agent_positions 17\n",
      "agent_velocities 17\n",
      "block_poses 17\n",
      "goal_poses 17\n",
      "step_image_features 17\n"
     ]
    }
   ],
   "source": [
    "# check the length of each key in the data\n",
    "for k, v in rollout_data.items():\n",
    "    print(k, len(v))"
   ]
  },
  {
   "cell_type": "code",
   "execution_count": 7,
   "metadata": {},
   "outputs": [
    {
     "data": {
      "text/plain": [
       "[0.860723383192614, 0.9248333984487633, 0.9800355945276743, 1.0]"
      ]
     },
     "execution_count": 7,
     "metadata": {},
     "output_type": "execute_result"
    }
   ],
   "source": [
    "rollout_data['reward'][16]"
   ]
  },
  {
   "cell_type": "markdown",
   "metadata": {},
   "source": [
    "### Evaluating the rollout datasets with the base 100 epoch checkpoint"
   ]
  },
  {
   "cell_type": "code",
   "execution_count": null,
   "metadata": {},
   "outputs": [
    {
     "name": "stdout",
     "output_type": "stream",
     "text": [
      "Total # of Successes:  81\n",
      "Success rate:  0.405\n"
     ]
    }
   ],
   "source": [
    "import glob\n",
    "import os\n",
    "dir = \"/home/woodbury/rajiv/action-diffusion-failure/logs/datasets/no_domain_randomization_v2\" \n",
    "# check how many files there are matching name\n",
    "total_episodes = glob.glob(os.path.join(dir, \"episode_*.pkl\"))\n",
    "success_episodes = glob.glob(os.path.join(dir, \"episode_*_success.pkl\"))\n",
    "rate = len(success_episodes) / len(total_episodes)\n",
    "print(\"Total # of Successes: \", len(success_episodes))\n",
    "print(\"Success rate: \", rate)"
   ]
  },
  {
   "cell_type": "code",
   "execution_count": null,
   "metadata": {},
   "outputs": [],
   "source": []
  }
 ],
 "metadata": {
  "kernelspec": {
   "display_name": "sentinel",
   "language": "python",
   "name": "python3"
  },
  "language_info": {
   "codemirror_mode": {
    "name": "ipython",
    "version": 3
   },
   "file_extension": ".py",
   "mimetype": "text/x-python",
   "name": "python",
   "nbconvert_exporter": "python",
   "pygments_lexer": "ipython3",
   "version": "3.10.13"
  }
 },
 "nbformat": 4,
 "nbformat_minor": 2
}
