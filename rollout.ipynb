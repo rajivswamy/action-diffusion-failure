{
 "cells": [
  {
   "cell_type": "code",
   "execution_count": 1,
   "metadata": {},
   "outputs": [],
   "source": [
    "#@markdown ### **Imports**\n",
    "# diffusion policy import\n",
    "from typing import Tuple, Sequence, Dict, Union, Optional, Callable\n",
    "import numpy as np\n",
    "import math\n",
    "import torch\n",
    "import torch.nn as nn\n",
    "import torchvision\n",
    "import collections\n",
    "import zarr\n",
    "from diffusers.schedulers.scheduling_ddpm import DDPMScheduler\n",
    "from diffusers.training_utils import EMAModel\n",
    "from diffusers.optimization import get_scheduler\n",
    "from tqdm import tqdm\n",
    "from PIL import Image\n",
    "from skvideo.io import vwrite\n",
    "from IPython.display import Video\n",
    "\n",
    "# data imports\n",
    "from  src.dataset import get_dataset_pusht\n",
    "# model imports\n",
    "from src.policy import get_action_diffusion_model, load_checkpoint \n",
    "# train import\n",
    "from src.train import train_diff_model\n",
    "# env import\n",
    "from src.envs.sim_pusht import PushTImageEnv\n",
    "# rollout import\n",
    "from src.rollout import rollout"
   ]
  },
  {
   "cell_type": "markdown",
   "metadata": {},
   "source": [
    "### Global Config Variables"
   ]
  },
  {
   "cell_type": "code",
   "execution_count": 2,
   "metadata": {},
   "outputs": [],
   "source": [
    "dataset_path = 'demo/pusht_cchi_v7_replay.zarr.zip'\n",
    "pred_horizon = 16\n",
    "obs_horizon = 2\n",
    "action_horizon = 8\n",
    "\n",
    "device = \"cuda\"\n",
    "encoder_name = \"resnet18\"\n",
    "vision_feature_dim = 512\n",
    "lowdim_obs_dim = 2\n",
    "action_dim = 2\n",
    "\n",
    "num_epochs = 100\n",
    "batch_size = 64\n",
    "num_workers = 4\n",
    "num_diffusion_iters = 100"
   ]
  },
  {
   "cell_type": "markdown",
   "metadata": {},
   "source": [
    "### Testing General Env"
   ]
  },
  {
   "cell_type": "code",
   "execution_count": 3,
   "metadata": {},
   "outputs": [
    {
     "name": "stdout",
     "output_type": "stream",
     "text": [
      "Creating PushT Env with seed 0.\n"
     ]
    },
    {
     "data": {
      "image/jpeg": "[encoded data removed]",
      "image/png": "[encoded data removed]",
      "text/plain": [
       "<PIL.Image.Image image mode=RGB size=96x96>"
      ]
     },
     "execution_count": 3,
     "metadata": {},
     "output_type": "execute_result"
    }
   ],
   "source": [
    "env = PushTImageEnv(seed=0)\n",
    "obs, info = env.reset()\n",
    "img = env.render(mode='rgb_array')\n",
    "im = Image.fromarray(img)\n",
    "im"
   ]
  },
  {
   "cell_type": "markdown",
   "metadata": {},
   "source": [
    "### Testing dataset, model, and train functions"
   ]
  },
  {
   "cell_type": "code",
   "execution_count": 4,
   "metadata": {},
   "outputs": [],
   "source": [
    "dataset, stats = get_dataset_pusht(dataset_path, pred_horizon, obs_horizon, action_horizon)"
   ]
  },
  {
   "cell_type": "code",
   "execution_count": 5,
   "metadata": {},
   "outputs": [
    {
     "name": "stdout",
     "output_type": "stream",
     "text": [
      "number of parameters: 7.994727e+07\n",
      "Loaded model from demo/ema_100ep.pt\n"
     ]
    }
   ],
   "source": [
    "checkpoint_path = \"demo/ema_100ep.pt\"\n",
    "\n",
    "nets = get_action_diffusion_model(\n",
    "    device=device,\n",
    "    encoder_name=encoder_name,\n",
    "    vision_feature_dim=vision_feature_dim,\n",
    "    lowdim_obs_dim=lowdim_obs_dim,\n",
    "    action_dim=action_dim,\n",
    "    obs_horizon=obs_horizon\n",
    ")\n",
    "\n",
    "load_checkpoint(model=nets, checkpoint_path=checkpoint_path, device=device)"
   ]
  },
  {
   "cell_type": "code",
   "execution_count": 6,
   "metadata": {},
   "outputs": [
    {
     "name": "stderr",
     "output_type": "stream",
     "text": [
      "Epoch:   0%|          | 0/100 [00:00<?, ?it/s]/home/woodbury/miniforge3/envs/sentinel/lib/python3.10/site-packages/transformers/deepspeed.py:23: FutureWarning: transformers.deepspeed module is deprecated and will be removed in a future version. Please import deepspeed modules directly from transformers.integrations\n",
      "  warnings.warn(\n",
      "Epoch:   0%|          | 0/100 [00:03<?, ?it/s]\n"
     ]
    },
    {
     "ename": "KeyboardInterrupt",
     "evalue": "",
     "output_type": "error",
     "traceback": [
      "\u001b[0;31m---------------------------------------------------------------------------\u001b[0m",
      "\u001b[0;31mKeyboardInterrupt\u001b[0m                         Traceback (most recent call last)",
      "Cell \u001b[0;32mIn[6], line 3\u001b[0m\n\u001b[1;32m      1\u001b[0m logdir \u001b[38;5;241m=\u001b[39m \u001b[38;5;124m\"\u001b[39m\u001b[38;5;124mlogs/train/test_default\u001b[39m\u001b[38;5;124m\"\u001b[39m\n\u001b[0;32m----> 3\u001b[0m nets, losses \u001b[38;5;241m=\u001b[39m \u001b[43mtrain_diff_model\u001b[49m\u001b[43m(\u001b[49m\n\u001b[1;32m      4\u001b[0m \u001b[43m    \u001b[49m\u001b[43mnets\u001b[49m\u001b[38;5;241;43m=\u001b[39;49m\u001b[43mnets\u001b[49m\u001b[43m,\u001b[49m\n\u001b[1;32m      5\u001b[0m \u001b[43m    \u001b[49m\u001b[43mdataset\u001b[49m\u001b[38;5;241;43m=\u001b[39;49m\u001b[43mdataset\u001b[49m\u001b[43m,\u001b[49m\n\u001b[1;32m      6\u001b[0m \u001b[43m    \u001b[49m\u001b[43mlogdir\u001b[49m\u001b[38;5;241;43m=\u001b[39;49m\u001b[43mlogdir\u001b[49m\u001b[43m,\u001b[49m\n\u001b[1;32m      7\u001b[0m \u001b[43m    \u001b[49m\u001b[43mnum_epochs\u001b[49m\u001b[38;5;241;43m=\u001b[39;49m\u001b[43mnum_epochs\u001b[49m\u001b[43m,\u001b[49m\n\u001b[1;32m      8\u001b[0m \u001b[43m    \u001b[49m\u001b[43mbatch_size\u001b[49m\u001b[38;5;241;43m=\u001b[39;49m\u001b[43mbatch_size\u001b[49m\u001b[43m,\u001b[49m\n\u001b[1;32m      9\u001b[0m \u001b[43m    \u001b[49m\u001b[43mnum_workers\u001b[49m\u001b[38;5;241;43m=\u001b[39;49m\u001b[43mnum_workers\u001b[49m\u001b[43m,\u001b[49m\n\u001b[1;32m     10\u001b[0m \u001b[43m    \u001b[49m\u001b[43mdevice\u001b[49m\u001b[38;5;241;43m=\u001b[39;49m\u001b[43mdevice\u001b[49m\u001b[43m,\u001b[49m\n\u001b[1;32m     11\u001b[0m \u001b[43m    \u001b[49m\u001b[43mnum_diffusion_iters\u001b[49m\u001b[38;5;241;43m=\u001b[39;49m\u001b[43mnum_diffusion_iters\u001b[49m\u001b[43m,\u001b[49m\n\u001b[1;32m     12\u001b[0m \u001b[43m    \u001b[49m\u001b[43mobs_horizon\u001b[49m\u001b[38;5;241;43m=\u001b[39;49m\u001b[43mobs_horizon\u001b[49m\n\u001b[1;32m     13\u001b[0m \u001b[43m)\u001b[49m\n",
      "File \u001b[0;32m~/rajiv/action-diffusion-failure/src/train.py:135\u001b[0m, in \u001b[0;36mtrain_diff_model\u001b[0;34m(nets, dataset, logdir, num_epochs, batch_size, num_workers, device, num_diffusion_iters, obs_horizon)\u001b[0m\n\u001b[1;32m    133\u001b[0m                 loss_cpu \u001b[38;5;241m=\u001b[39m loss\u001b[38;5;241m.\u001b[39mitem()\n\u001b[1;32m    134\u001b[0m                 epoch_loss\u001b[38;5;241m.\u001b[39mappend(loss_cpu)\n\u001b[0;32m--> 135\u001b[0m                 \u001b[43mtepoch\u001b[49m\u001b[38;5;241;43m.\u001b[39;49m\u001b[43mset_postfix\u001b[49m\u001b[43m(\u001b[49m\u001b[43mloss\u001b[49m\u001b[38;5;241;43m=\u001b[39;49m\u001b[43mloss_cpu\u001b[49m\u001b[43m)\u001b[49m\n\u001b[1;32m    136\u001b[0m         tglobal\u001b[38;5;241m.\u001b[39mset_postfix(loss\u001b[38;5;241m=\u001b[39mnp\u001b[38;5;241m.\u001b[39mmean(epoch_loss))\n\u001b[1;32m    138\u001b[0m \u001b[38;5;66;03m# Weights of the EMA model\u001b[39;00m\n\u001b[1;32m    139\u001b[0m \u001b[38;5;66;03m# is used for inference\u001b[39;00m\n",
      "File \u001b[0;32m~/miniforge3/envs/sentinel/lib/python3.10/site-packages/tqdm/std.py:1431\u001b[0m, in \u001b[0;36mtqdm.set_postfix\u001b[0;34m(self, ordered_dict, refresh, **kwargs)\u001b[0m\n\u001b[1;32m   1428\u001b[0m \u001b[38;5;28mself\u001b[39m\u001b[38;5;241m.\u001b[39mpostfix \u001b[38;5;241m=\u001b[39m \u001b[38;5;124m'\u001b[39m\u001b[38;5;124m, \u001b[39m\u001b[38;5;124m'\u001b[39m\u001b[38;5;241m.\u001b[39mjoin(key \u001b[38;5;241m+\u001b[39m \u001b[38;5;124m'\u001b[39m\u001b[38;5;124m=\u001b[39m\u001b[38;5;124m'\u001b[39m \u001b[38;5;241m+\u001b[39m postfix[key]\u001b[38;5;241m.\u001b[39mstrip()\n\u001b[1;32m   1429\u001b[0m                          \u001b[38;5;28;01mfor\u001b[39;00m key \u001b[38;5;129;01min\u001b[39;00m postfix\u001b[38;5;241m.\u001b[39mkeys())\n\u001b[1;32m   1430\u001b[0m \u001b[38;5;28;01mif\u001b[39;00m refresh:\n\u001b[0;32m-> 1431\u001b[0m     \u001b[38;5;28;43mself\u001b[39;49m\u001b[38;5;241;43m.\u001b[39;49m\u001b[43mrefresh\u001b[49m\u001b[43m(\u001b[49m\u001b[43m)\u001b[49m\n",
      "File \u001b[0;32m~/miniforge3/envs/sentinel/lib/python3.10/site-packages/tqdm/std.py:1347\u001b[0m, in \u001b[0;36mtqdm.refresh\u001b[0;34m(self, nolock, lock_args)\u001b[0m\n\u001b[1;32m   1345\u001b[0m     \u001b[38;5;28;01melse\u001b[39;00m:\n\u001b[1;32m   1346\u001b[0m         \u001b[38;5;28mself\u001b[39m\u001b[38;5;241m.\u001b[39m_lock\u001b[38;5;241m.\u001b[39macquire()\n\u001b[0;32m-> 1347\u001b[0m \u001b[38;5;28;43mself\u001b[39;49m\u001b[38;5;241;43m.\u001b[39;49m\u001b[43mdisplay\u001b[49m\u001b[43m(\u001b[49m\u001b[43m)\u001b[49m\n\u001b[1;32m   1348\u001b[0m \u001b[38;5;28;01mif\u001b[39;00m \u001b[38;5;129;01mnot\u001b[39;00m nolock:\n\u001b[1;32m   1349\u001b[0m     \u001b[38;5;28mself\u001b[39m\u001b[38;5;241m.\u001b[39m_lock\u001b[38;5;241m.\u001b[39mrelease()\n",
      "File \u001b[0;32m~/miniforge3/envs/sentinel/lib/python3.10/site-packages/tqdm/std.py:1497\u001b[0m, in \u001b[0;36mtqdm.display\u001b[0;34m(self, msg, pos)\u001b[0m\n\u001b[1;32m   1495\u001b[0m \u001b[38;5;28mself\u001b[39m\u001b[38;5;241m.\u001b[39msp(\u001b[38;5;28mself\u001b[39m\u001b[38;5;241m.\u001b[39m\u001b[38;5;21m__str__\u001b[39m() \u001b[38;5;28;01mif\u001b[39;00m msg \u001b[38;5;129;01mis\u001b[39;00m \u001b[38;5;28;01mNone\u001b[39;00m \u001b[38;5;28;01melse\u001b[39;00m msg)\n\u001b[1;32m   1496\u001b[0m \u001b[38;5;28;01mif\u001b[39;00m pos:\n\u001b[0;32m-> 1497\u001b[0m     \u001b[38;5;28;43mself\u001b[39;49m\u001b[38;5;241;43m.\u001b[39;49m\u001b[43mmoveto\u001b[49m\u001b[43m(\u001b[49m\u001b[38;5;241;43m-\u001b[39;49m\u001b[43mpos\u001b[49m\u001b[43m)\u001b[49m\n\u001b[1;32m   1498\u001b[0m \u001b[38;5;28;01mreturn\u001b[39;00m \u001b[38;5;28;01mTrue\u001b[39;00m\n",
      "File \u001b[0;32m~/miniforge3/envs/sentinel/lib/python3.10/site-packages/tqdm/std.py:1443\u001b[0m, in \u001b[0;36mtqdm.moveto\u001b[0;34m(self, n)\u001b[0m\n\u001b[1;32m   1441\u001b[0m \u001b[38;5;28;01mdef\u001b[39;00m \u001b[38;5;21mmoveto\u001b[39m(\u001b[38;5;28mself\u001b[39m, n):\n\u001b[1;32m   1442\u001b[0m     \u001b[38;5;66;03m# TODO: private method\u001b[39;00m\n\u001b[0;32m-> 1443\u001b[0m     \u001b[38;5;28;43mself\u001b[39;49m\u001b[38;5;241;43m.\u001b[39;49m\u001b[43mfp\u001b[49m\u001b[38;5;241;43m.\u001b[39;49m\u001b[43mwrite\u001b[49m\u001b[43m(\u001b[49m\u001b[38;5;124;43m'\u001b[39;49m\u001b[38;5;130;43;01m\\n\u001b[39;49;00m\u001b[38;5;124;43m'\u001b[39;49m\u001b[43m \u001b[49m\u001b[38;5;241;43m*\u001b[39;49m\u001b[43m \u001b[49m\u001b[43mn\u001b[49m\u001b[43m \u001b[49m\u001b[38;5;241;43m+\u001b[39;49m\u001b[43m \u001b[49m\u001b[43m_term_move_up\u001b[49m\u001b[43m(\u001b[49m\u001b[43m)\u001b[49m\u001b[43m \u001b[49m\u001b[38;5;241;43m*\u001b[39;49m\u001b[43m \u001b[49m\u001b[38;5;241;43m-\u001b[39;49m\u001b[43mn\u001b[49m\u001b[43m)\u001b[49m\n\u001b[1;32m   1444\u001b[0m     \u001b[38;5;28mgetattr\u001b[39m(\u001b[38;5;28mself\u001b[39m\u001b[38;5;241m.\u001b[39mfp, \u001b[38;5;124m'\u001b[39m\u001b[38;5;124mflush\u001b[39m\u001b[38;5;124m'\u001b[39m, \u001b[38;5;28;01mlambda\u001b[39;00m: \u001b[38;5;28;01mNone\u001b[39;00m)()\n",
      "File \u001b[0;32m~/miniforge3/envs/sentinel/lib/python3.10/site-packages/tqdm/utils.py:196\u001b[0m, in \u001b[0;36mDisableOnWriteError.disable_on_exception.<locals>.inner\u001b[0;34m(*args, **kwargs)\u001b[0m\n\u001b[1;32m    194\u001b[0m \u001b[38;5;28;01mdef\u001b[39;00m \u001b[38;5;21minner\u001b[39m(\u001b[38;5;241m*\u001b[39margs, \u001b[38;5;241m*\u001b[39m\u001b[38;5;241m*\u001b[39mkwargs):\n\u001b[1;32m    195\u001b[0m     \u001b[38;5;28;01mtry\u001b[39;00m:\n\u001b[0;32m--> 196\u001b[0m         \u001b[38;5;28;01mreturn\u001b[39;00m \u001b[43mfunc\u001b[49m\u001b[43m(\u001b[49m\u001b[38;5;241;43m*\u001b[39;49m\u001b[43margs\u001b[49m\u001b[43m,\u001b[49m\u001b[43m \u001b[49m\u001b[38;5;241;43m*\u001b[39;49m\u001b[38;5;241;43m*\u001b[39;49m\u001b[43mkwargs\u001b[49m\u001b[43m)\u001b[49m\n\u001b[1;32m    197\u001b[0m     \u001b[38;5;28;01mexcept\u001b[39;00m \u001b[38;5;167;01mOSError\u001b[39;00m \u001b[38;5;28;01mas\u001b[39;00m e:\n\u001b[1;32m    198\u001b[0m         \u001b[38;5;28;01mif\u001b[39;00m e\u001b[38;5;241m.\u001b[39merrno \u001b[38;5;241m!=\u001b[39m \u001b[38;5;241m5\u001b[39m:\n",
      "File \u001b[0;32m~/miniforge3/envs/sentinel/lib/python3.10/site-packages/ipykernel/iostream.py:694\u001b[0m, in \u001b[0;36mOutStream.write\u001b[0;34m(self, string)\u001b[0m\n\u001b[1;32m    692\u001b[0m     \u001b[38;5;28mself\u001b[39m\u001b[38;5;241m.\u001b[39mpub_thread\u001b[38;5;241m.\u001b[39mschedule(\u001b[38;5;28mself\u001b[39m\u001b[38;5;241m.\u001b[39m_flush)\n\u001b[1;32m    693\u001b[0m \u001b[38;5;28;01melse\u001b[39;00m:\n\u001b[0;32m--> 694\u001b[0m     \u001b[38;5;28;43mself\u001b[39;49m\u001b[38;5;241;43m.\u001b[39;49m\u001b[43m_schedule_flush\u001b[49m\u001b[43m(\u001b[49m\u001b[43m)\u001b[49m\n\u001b[1;32m    696\u001b[0m \u001b[38;5;28;01mreturn\u001b[39;00m \u001b[38;5;28mlen\u001b[39m(string)\n",
      "File \u001b[0;32m~/miniforge3/envs/sentinel/lib/python3.10/site-packages/ipykernel/iostream.py:590\u001b[0m, in \u001b[0;36mOutStream._schedule_flush\u001b[0;34m(self)\u001b[0m\n\u001b[1;32m    587\u001b[0m \u001b[38;5;28;01mdef\u001b[39;00m \u001b[38;5;21m_schedule_in_thread\u001b[39m():\n\u001b[1;32m    588\u001b[0m     \u001b[38;5;28mself\u001b[39m\u001b[38;5;241m.\u001b[39m_io_loop\u001b[38;5;241m.\u001b[39mcall_later(\u001b[38;5;28mself\u001b[39m\u001b[38;5;241m.\u001b[39mflush_interval, \u001b[38;5;28mself\u001b[39m\u001b[38;5;241m.\u001b[39m_flush)\n\u001b[0;32m--> 590\u001b[0m \u001b[38;5;28;43mself\u001b[39;49m\u001b[38;5;241;43m.\u001b[39;49m\u001b[43mpub_thread\u001b[49m\u001b[38;5;241;43m.\u001b[39;49m\u001b[43mschedule\u001b[49m\u001b[43m(\u001b[49m\u001b[43m_schedule_in_thread\u001b[49m\u001b[43m)\u001b[49m\n",
      "File \u001b[0;32m~/miniforge3/envs/sentinel/lib/python3.10/site-packages/ipykernel/iostream.py:264\u001b[0m, in \u001b[0;36mIOPubThread.schedule\u001b[0;34m(self, f)\u001b[0m\n\u001b[1;32m    259\u001b[0m \u001b[38;5;28;01mdef\u001b[39;00m \u001b[38;5;21mschedule\u001b[39m(\u001b[38;5;28mself\u001b[39m, f):\n\u001b[1;32m    260\u001b[0m \u001b[38;5;250m    \u001b[39m\u001b[38;5;124;03m\"\"\"Schedule a function to be called in our IO thread.\u001b[39;00m\n\u001b[1;32m    261\u001b[0m \n\u001b[1;32m    262\u001b[0m \u001b[38;5;124;03m    If the thread is not running, call immediately.\u001b[39;00m\n\u001b[1;32m    263\u001b[0m \u001b[38;5;124;03m    \"\"\"\u001b[39;00m\n\u001b[0;32m--> 264\u001b[0m     \u001b[38;5;28;01mif\u001b[39;00m \u001b[38;5;28;43mself\u001b[39;49m\u001b[38;5;241;43m.\u001b[39;49m\u001b[43mthread\u001b[49m\u001b[38;5;241;43m.\u001b[39;49m\u001b[43mis_alive\u001b[49m\u001b[43m(\u001b[49m\u001b[43m)\u001b[49m:\n\u001b[1;32m    265\u001b[0m         \u001b[38;5;28mself\u001b[39m\u001b[38;5;241m.\u001b[39m_events\u001b[38;5;241m.\u001b[39mappend(f)\n\u001b[1;32m    266\u001b[0m         \u001b[38;5;66;03m# wake event thread (message content is ignored)\u001b[39;00m\n",
      "File \u001b[0;32m~/miniforge3/envs/sentinel/lib/python3.10/threading.py:1180\u001b[0m, in \u001b[0;36mThread.is_alive\u001b[0;34m(self)\u001b[0m\n\u001b[1;32m   1178\u001b[0m \u001b[38;5;28;01mif\u001b[39;00m \u001b[38;5;28mself\u001b[39m\u001b[38;5;241m.\u001b[39m_is_stopped \u001b[38;5;129;01mor\u001b[39;00m \u001b[38;5;129;01mnot\u001b[39;00m \u001b[38;5;28mself\u001b[39m\u001b[38;5;241m.\u001b[39m_started\u001b[38;5;241m.\u001b[39mis_set():\n\u001b[1;32m   1179\u001b[0m     \u001b[38;5;28;01mreturn\u001b[39;00m \u001b[38;5;28;01mFalse\u001b[39;00m\n\u001b[0;32m-> 1180\u001b[0m \u001b[38;5;28;43mself\u001b[39;49m\u001b[38;5;241;43m.\u001b[39;49m\u001b[43m_wait_for_tstate_lock\u001b[49m\u001b[43m(\u001b[49m\u001b[38;5;28;43;01mFalse\u001b[39;49;00m\u001b[43m)\u001b[49m\n\u001b[1;32m   1181\u001b[0m \u001b[38;5;28;01mreturn\u001b[39;00m \u001b[38;5;129;01mnot\u001b[39;00m \u001b[38;5;28mself\u001b[39m\u001b[38;5;241m.\u001b[39m_is_stopped\n",
      "File \u001b[0;32m~/miniforge3/envs/sentinel/lib/python3.10/threading.py:1102\u001b[0m, in \u001b[0;36mThread._wait_for_tstate_lock\u001b[0;34m(self, block, timeout)\u001b[0m\n\u001b[1;32m   1097\u001b[0m     \u001b[38;5;28;01melse\u001b[39;00m:\n\u001b[1;32m   1098\u001b[0m         \u001b[38;5;66;03m# the behavior of a negative timeout isn't documented, but\u001b[39;00m\n\u001b[1;32m   1099\u001b[0m         \u001b[38;5;66;03m# historically .join(timeout=x) for x<0 has acted as if timeout=0\u001b[39;00m\n\u001b[1;32m   1100\u001b[0m         \u001b[38;5;28mself\u001b[39m\u001b[38;5;241m.\u001b[39m_wait_for_tstate_lock(timeout\u001b[38;5;241m=\u001b[39m\u001b[38;5;28mmax\u001b[39m(timeout, \u001b[38;5;241m0\u001b[39m))\n\u001b[0;32m-> 1102\u001b[0m \u001b[38;5;28;01mdef\u001b[39;00m \u001b[38;5;21m_wait_for_tstate_lock\u001b[39m(\u001b[38;5;28mself\u001b[39m, block\u001b[38;5;241m=\u001b[39m\u001b[38;5;28;01mTrue\u001b[39;00m, timeout\u001b[38;5;241m=\u001b[39m\u001b[38;5;241m-\u001b[39m\u001b[38;5;241m1\u001b[39m):\n\u001b[1;32m   1103\u001b[0m     \u001b[38;5;66;03m# Issue #18808: wait for the thread state to be gone.\u001b[39;00m\n\u001b[1;32m   1104\u001b[0m     \u001b[38;5;66;03m# At the end of the thread's life, after all knowledge of the thread\u001b[39;00m\n\u001b[1;32m   1105\u001b[0m     \u001b[38;5;66;03m# is removed from C data structures, C code releases our _tstate_lock.\u001b[39;00m\n\u001b[1;32m   1106\u001b[0m     \u001b[38;5;66;03m# This method passes its arguments to _tstate_lock.acquire().\u001b[39;00m\n\u001b[1;32m   1107\u001b[0m     \u001b[38;5;66;03m# If the lock is acquired, the C code is done, and self._stop() is\u001b[39;00m\n\u001b[1;32m   1108\u001b[0m     \u001b[38;5;66;03m# called.  That sets ._is_stopped to True, and ._tstate_lock to None.\u001b[39;00m\n\u001b[1;32m   1109\u001b[0m     lock \u001b[38;5;241m=\u001b[39m \u001b[38;5;28mself\u001b[39m\u001b[38;5;241m.\u001b[39m_tstate_lock\n\u001b[1;32m   1110\u001b[0m     \u001b[38;5;28;01mif\u001b[39;00m lock \u001b[38;5;129;01mis\u001b[39;00m \u001b[38;5;28;01mNone\u001b[39;00m:\n\u001b[1;32m   1111\u001b[0m         \u001b[38;5;66;03m# already determined that the C code is done\u001b[39;00m\n",
      "\u001b[0;31mKeyboardInterrupt\u001b[0m: "
     ]
    }
   ],
   "source": [
    "logdir = \"logs/train/test_default\"\n",
    "\n",
    "nets, losses = train_diff_model(\n",
    "    nets=nets,\n",
    "    dataset=dataset,\n",
    "    logdir=logdir,\n",
    "    num_epochs=num_epochs,\n",
    "    batch_size=batch_size,\n",
    "    num_workers=num_workers,\n",
    "    device=device,\n",
    "    num_diffusion_iters=num_diffusion_iters,\n",
    "    obs_horizon=obs_horizon\n",
    ")"
   ]
  },
  {
   "cell_type": "markdown",
   "metadata": {},
   "source": [
    "### Testing the roll out code"
   ]
  },
  {
   "cell_type": "code",
   "execution_count": 7,
   "metadata": {},
   "outputs": [
    {
     "name": "stdout",
     "output_type": "stream",
     "text": [
      "number of parameters: 7.994727e+07\n",
      "Loaded model from demo/ema_100ep.pt\n",
      "Creating PushT Env with seed 100000.\n"
     ]
    },
    {
     "name": "stderr",
     "output_type": "stream",
     "text": [
      "Eval PushTImageEnv:  62%|██████▏   | 124/200 [00:13<00:08,  9.42it/s, reward=1]     \n"
     ]
    },
    {
     "data": {
      "text/html": [
       "<video controls  width=\"256\"  height=\"256\">\n",
       " <source src=\"data:video/mp4;base64,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\" type=\"video/mp4\">\n",
       " Your browser does not support the video tag.\n",
       " </video>"
      ],
      "text/plain": [
       "<IPython.core.display.Video object>"
      ]
     },
     "execution_count": 7,
     "metadata": {},
     "output_type": "execute_result"
    }
   ],
   "source": [
    "# load the trained model\n",
    "checkpoint_path = \"demo/ema_100ep.pt\"\n",
    "\n",
    "nets = get_action_diffusion_model(\n",
    "    device=device,\n",
    "    encoder_name=encoder_name,\n",
    "    vision_feature_dim=vision_feature_dim,\n",
    "    lowdim_obs_dim=lowdim_obs_dim,\n",
    "    action_dim=action_dim,\n",
    "    obs_horizon=obs_horizon\n",
    ")\n",
    "\n",
    "load_checkpoint(model=nets, checkpoint_path=checkpoint_path, device=device)\n",
    "\n",
    "# init the environment\n",
    "env = PushTImageEnv(seed=100000)\n",
    "\n",
    "\n",
    "rollout_data = rollout(ema_nets=nets,\n",
    "                       env=env,\n",
    "                       stats=stats,\n",
    "                       max_steps=200,\n",
    "                       obs_horizon=obs_horizon,\n",
    "                       pred_horizon=pred_horizon,\n",
    "                       device=device,\n",
    "                       num_diffusion_iters=num_diffusion_iters,\n",
    "                       action_dim=action_dim,\n",
    "                       trajectory_sample_size=128)\n",
    "\n",
    "# visualize the video\n",
    "imgs = rollout_data['images']\n",
    "\n",
    "vwrite('vis.mp4', imgs)\n",
    "Video('vis.mp4', embed=True, width=256, height=256)"
   ]
  },
  {
   "cell_type": "code",
   "execution_count": 8,
   "metadata": {},
   "outputs": [
    {
     "name": "stdout",
     "output_type": "stream",
     "text": [
      "timesteps 124\n",
      "images 124\n",
      "rewards 124\n",
      "sampled_trajectories 124\n",
      "actions 124\n",
      "agent_positions 124\n",
      "agent_velocities 124\n",
      "block_poses 124\n",
      "goal_poses 124\n",
      "step_image_features 124\n"
     ]
    }
   ],
   "source": [
    "# check the length of each key in the data\n",
    "for k, v in rollout_data.items():\n",
    "    print(k, len(v))"
   ]
  },
  {
   "cell_type": "code",
   "execution_count": null,
   "metadata": {},
   "outputs": [],
   "source": []
  }
 ],
 "metadata": {
  "kernelspec": {
   "display_name": "sentinel",
   "language": "python",
   "name": "python3"
  },
  "language_info": {
   "codemirror_mode": {
    "name": "ipython",
    "version": 3
   },
   "file_extension": ".py",
   "mimetype": "text/x-python",
   "name": "python",
   "nbconvert_exporter": "python",
   "pygments_lexer": "ipython3",
   "version": "3.10.13"
  }
 },
 "nbformat": 4,
 "nbformat_minor": 2
}
