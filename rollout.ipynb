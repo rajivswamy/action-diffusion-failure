{
 "cells": [
  {
   "cell_type": "code",
   "execution_count": 5,
   "metadata": {},
   "outputs": [],
   "source": [
    "#@markdown ### **Imports**\n",
    "# diffusion policy import\n",
    "from typing import Tuple, Sequence, Dict, Union, Optional, Callable\n",
    "import numpy as np\n",
    "import math\n",
    "import torch\n",
    "import torch.nn as nn\n",
    "import torchvision\n",
    "import collections\n",
    "import zarr\n",
    "from diffusers.schedulers.scheduling_ddpm import DDPMScheduler\n",
    "from diffusers.training_utils import EMAModel\n",
    "from diffusers.optimization import get_scheduler\n",
    "from tqdm import tqdm\n",
    "from PIL import Image\n",
    "from skvideo.io import vwrite\n",
    "from IPython.display import Video\n",
    "\n",
    "import cv2\n",
    "import pandas as pd\n",
    "import os\n",
    "import sys\n",
    "\n",
    "# data imports\n",
    "from  src.dataset import get_dataset_pusht\n",
    "# model imports\n",
    "from src.policy import get_action_diffusion_model, load_checkpoint \n",
    "# train import\n",
    "from src.train import train_diff_model\n",
    "# env import\n",
    "from src.envs.sim_pusht import PushTImageEnv\n",
    "# rollout import\n",
    "from src.rollout import rollout"
   ]
  },
  {
   "cell_type": "markdown",
   "metadata": {},
   "source": [
    "### Global Config Variables"
   ]
  },
  {
   "cell_type": "code",
   "execution_count": 2,
   "metadata": {},
   "outputs": [],
   "source": [
    "dataset_path = 'demo/pusht_cchi_v7_replay.zarr.zip'\n",
    "pred_horizon = 16\n",
    "obs_horizon = 2\n",
    "action_horizon = 8\n",
    "\n",
    "device = \"cuda:0\"\n",
    "encoder_name = \"resnet18\"\n",
    "vision_feature_dim = 512\n",
    "lowdim_obs_dim = 2\n",
    "action_dim = 2\n",
    "\n",
    "num_epochs = 100\n",
    "batch_size = 64\n",
    "num_workers = 4\n",
    "num_diffusion_iters = 100"
   ]
  },
  {
   "cell_type": "markdown",
   "metadata": {},
   "source": [
    "### Testing General Env"
   ]
  },
  {
   "cell_type": "code",
   "execution_count": 3,
   "metadata": {},
   "outputs": [
    {
     "name": "stdout",
     "output_type": "stream",
     "text": [
      "Creating PushT Env with seed 57.\n",
      "Block position Vec2d(216.0, 296.0)\n"
     ]
    },
    {
     "data": {
      "image/jpeg": "[encoded data removed]",
      "image/png": "[encoded data removed]",
      "text/plain": [
       "<PIL.Image.Image image mode=RGB size=96x96>"
      ]
     },
     "execution_count": 3,
     "metadata": {},
     "output_type": "execute_result"
    }
   ],
   "source": [
    "env = PushTImageEnv(seed=57)\n",
    "obs, info = env.reset()\n",
    "img = env.render(mode='rgb_array')\n",
    "im = Image.fromarray(img)\n",
    "print(\"Block position\", env.block.position)\n",
    "im"
   ]
  },
  {
   "cell_type": "code",
   "execution_count": null,
   "metadata": {},
   "outputs": [],
   "source": []
  },
  {
   "cell_type": "markdown",
   "metadata": {},
   "source": [
    "### Testing dataset, model, and train functions"
   ]
  },
  {
   "cell_type": "code",
   "execution_count": 4,
   "metadata": {},
   "outputs": [],
   "source": [
    "dataset, stats = get_dataset_pusht(dataset_path, pred_horizon, obs_horizon, action_horizon)"
   ]
  },
  {
   "cell_type": "code",
   "execution_count": null,
   "metadata": {},
   "outputs": [
    {
     "name": "stdout",
     "output_type": "stream",
     "text": [
      "number of parameters: 7.994727e+07\n",
      "Loaded model from demo/ema_100ep.pt\n"
     ]
    }
   ],
   "source": [
    "checkpoint_path = \"demo/ema_100ep.pt\"\n",
    "\n",
    "nets = get_action_diffusion_model(\n",
    "    device=device,\n",
    "    encoder_name=encoder_name,\n",
    "    vision_feature_dim=vision_feature_dim,\n",
    "    lowdim_obs_dim=lowdim_obs_dim,\n",
    "    action_dim=action_dim,\n",
    "    obs_horizon=obs_horizon\n",
    ")\n",
    "\n",
    "load_checkpoint(model=nets, checkpoint_path=checkpoint_path, device=device)"
   ]
  },
  {
   "cell_type": "code",
   "execution_count": null,
   "metadata": {},
   "outputs": [],
   "source": [
    "logdir = \"logs/train/test_default\"\n",
    "\n",
    "nets, losses = train_diff_model(\n",
    "    nets=nets,\n",
    "    dataset=dataset,\n",
    "    logdir=logdir,\n",
    "    num_epochs=num_epochs,\n",
    "    batch_size=batch_size,\n",
    "    num_workers=num_workers,\n",
    "    device=device,\n",
    "    num_diffusion_iters=num_diffusion_iters,\n",
    "    obs_horizon=obs_horizon\n",
    ")"
   ]
  },
  {
   "cell_type": "markdown",
   "metadata": {},
   "source": [
    "### Testing the roll out code"
   ]
  },
  {
   "cell_type": "code",
   "execution_count": 4,
   "metadata": {},
   "outputs": [
    {
     "name": "stdout",
     "output_type": "stream",
     "text": [
      "number of parameters: 7.994727e+07\n",
      "Loaded model from demo/ema_100ep_pretrained_paper.pth\n",
      "Creating PushT Env with seed 100000.\n"
     ]
    },
    {
     "name": "stderr",
     "output_type": "stream",
     "text": [
      "Eval PushTImageEnv:  15%|█▍        | 44/300 [00:08<00:48,  5.24it/s, reward=1]    "
     ]
    },
    {
     "name": "stdout",
     "output_type": "stream",
     "text": [
      "Rollout succeeded!\n"
     ]
    },
    {
     "name": "stderr",
     "output_type": "stream",
     "text": [
      "\n"
     ]
    },
    {
     "data": {
      "text/html": [
       "<video controls  width=\"256\"  height=\"256\">\n",
       " <source src=\"data:video/mp4;base64,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\" type=\"video/mp4\">\n",
       " Your browser does not support the video tag.\n",
       " </video>"
      ],
      "text/plain": [
       "<IPython.core.display.Video object>"
      ]
     },
     "execution_count": 4,
     "metadata": {},
     "output_type": "execute_result"
    }
   ],
   "source": [
    "dataset, stats = get_dataset_pusht(dataset_path, pred_horizon, obs_horizon, action_horizon)\n",
    "\n",
    "\n",
    "# load the trained model\n",
    "# checkpoint_path = \"checkpoint_ema_epoch_2500.pth\"\n",
    "checkpoint_path = \"demo/ema_100ep_pretrained_paper.pth\"\n",
    "\n",
    "nets = get_action_diffusion_model(\n",
    "    device=device,\n",
    "    encoder_name=encoder_name,\n",
    "    vision_feature_dim=vision_feature_dim,\n",
    "    lowdim_obs_dim=lowdim_obs_dim,\n",
    "    action_dim=action_dim,\n",
    "    obs_horizon=obs_horizon\n",
    ")\n",
    "\n",
    "load_checkpoint(model=nets, checkpoint_path=checkpoint_path, device=device)\n",
    "\n",
    "# init the environment\n",
    "env = PushTImageEnv(seed=100000)\n",
    "\n",
    "rollout_data, success = rollout(ema_nets=nets,\n",
    "                       env=env,\n",
    "                       stats=stats,\n",
    "                       max_steps=300,\n",
    "                       obs_horizon=obs_horizon,\n",
    "                       action_horizon=action_horizon,\n",
    "                       pred_horizon=pred_horizon,\n",
    "                       device=device,\n",
    "                       num_diffusion_iters=num_diffusion_iters,\n",
    "                       action_dim=action_dim,\n",
    "                       trajectory_sample_size=256)\n",
    "\n",
    "if success:\n",
    "    print(\"Rollout succeeded!\")\n",
    "\n",
    "# visualize the video\n",
    "rgb_lists = rollout_data['rgb']\n",
    "\n",
    "imgs = sum(rgb_lists, [])\n",
    "\n",
    "vwrite('vis.mp4', imgs)\n",
    "Video('vis.mp4', embed=True, width=256, height=256)"
   ]
  },
  {
   "cell_type": "code",
   "execution_count": 5,
   "metadata": {},
   "outputs": [
    {
     "name": "stdout",
     "output_type": "stream",
     "text": [
      "timestep 17\n",
      "rgb 17\n",
      "reward 17\n",
      "sampled_actions 17\n",
      "executed_action 17\n",
      "action_index 17\n",
      "agent_positions 17\n",
      "agent_velocities 17\n",
      "block_poses 17\n",
      "goal_poses 17\n",
      "step_image_features 17\n"
     ]
    }
   ],
   "source": [
    "# check the length of each key in the data\n",
    "for k, v in rollout_data.items():\n",
    "    print(k, len(v))"
   ]
  },
  {
   "cell_type": "code",
   "execution_count": 7,
   "metadata": {},
   "outputs": [
    {
     "data": {
      "text/plain": [
       "[0.860723383192614, 0.9248333984487633, 0.9800355945276743, 1.0]"
      ]
     },
     "execution_count": 7,
     "metadata": {},
     "output_type": "execute_result"
    }
   ],
   "source": [
    "rollout_data['reward'][16]"
   ]
  },
  {
   "cell_type": "markdown",
   "metadata": {},
   "source": [
    "### Evaluating the rollout datasets with the base 100 epoch checkpoint"
   ]
  },
  {
   "cell_type": "code",
   "execution_count": 2,
   "metadata": {},
   "outputs": [
    {
     "name": "stdout",
     "output_type": "stream",
     "text": [
      "Total # of Successes:  120\n",
      "Success rate:  0.4\n"
     ]
    }
   ],
   "source": [
    "import glob\n",
    "import os\n",
    "dir = \"logs/datasets/no_domain_randomization_v3\" \n",
    "# check how many files there are matching name\n",
    "total_episodes = glob.glob(os.path.join(dir, \"episode_*.pkl\"))\n",
    "success_episodes = glob.glob(os.path.join(dir, \"episode_*_success.pkl\"))\n",
    "rate = len(success_episodes) / len(total_episodes)\n",
    "print(\"Total # of Successes: \", len(success_episodes))\n",
    "print(\"Success rate: \", rate)"
   ]
  },
  {
   "cell_type": "markdown",
   "metadata": {},
   "source": [
    "### Checking the data format"
   ]
  },
  {
   "cell_type": "code",
   "execution_count": 44,
   "metadata": {},
   "outputs": [],
   "source": [
    "import pandas as pd\n",
    "ep_data_path = \"logs/datasets/no_domain_randomization_v3/episode_79_success.pkl\"\n",
    "df = pd.read_pickle(ep_data_path)"
   ]
  },
  {
   "cell_type": "code",
   "execution_count": 7,
   "metadata": {},
   "outputs": [],
   "source": [
    "from matplotlib import cm\n",
    "def render_trajectory(df, display_samples=False):\n",
    "    sampling_steps = len(df)\n",
    "    rendered_imgs = []\n",
    "\n",
    "    for i in range(sampling_steps):\n",
    "        imgs = df.rgb[i]               # list of up to z (96×96×3) uint8 images\n",
    "        action_preds = df.executed_action[i]  # (H,2)\n",
    "\n",
    "        if display_samples:\n",
    "            # now a full stack of N samples\n",
    "            action_preds = df.sampled_actions[i]  # (N, H, 2)\n",
    "        else:\n",
    "            # make it (1, H, 2) so we can treat both cases uniformly\n",
    "            action_preds = action_preds[None, ...]\n",
    "\n",
    "        # normalize from [0,512] → [0,96]\n",
    "        action_preds = (action_preds / 512.0) * 96.0\n",
    "\n",
    "        N, H, _ = action_preds.shape\n",
    "        cmap = cm.get_cmap('plasma', H)\n",
    "\n",
    "        for img in imgs:\n",
    "            overlay = img.copy()\n",
    "\n",
    "            # draw each trajectory\n",
    "            for n in range(N):\n",
    "                path = action_preds[n]\n",
    "                # each segment + small circle at start\n",
    "                for t in range(H - 1):\n",
    "                    x0, y0 = path[t]\n",
    "                    x1, y1 = path[t + 1]\n",
    "                    pt0 = (int(round(x0)), int(round(y0)))\n",
    "                    pt1 = (int(round(x1)), int(round(y1)))\n",
    "\n",
    "                    rgba = cmap(t)\n",
    "                    bgr = tuple((np.array(rgba[:3])[::-1] * 255).astype(int).tolist())\n",
    "\n",
    "                    cv2.line(overlay, pt0, pt1, color=bgr, thickness=1)\n",
    "                    cv2.circle(overlay, pt0, radius=1, color=bgr, thickness=-1)\n",
    "\n",
    "                # final point slightly larger\n",
    "                x_last, y_last = path[-1]\n",
    "                pt_last = (int(round(x_last)), int(round(y_last)))\n",
    "                rgba_last = cmap(H - 1)\n",
    "                bgr_last = tuple((np.array(rgba_last[:3])[::-1] * 255).astype(int).tolist())\n",
    "                cv2.circle(overlay, pt_last, radius=2, color=bgr_last, thickness=-1)\n",
    "\n",
    "            rendered_imgs.append(overlay)\n",
    "\n",
    "    return rendered_imgs  # list of sampling_steps * z images of shape (96,96,3)"
   ]
  },
  {
   "cell_type": "code",
   "execution_count": 46,
   "metadata": {},
   "outputs": [
    {
     "name": "stderr",
     "output_type": "stream",
     "text": [
      "/tmp/ipykernel_156544/1339846655.py:21: MatplotlibDeprecationWarning: The get_cmap function was deprecated in Matplotlib 3.7 and will be removed two minor releases later. Use ``matplotlib.colormaps[name]`` or ``matplotlib.colormaps.get_cmap(obj)`` instead.\n",
      "  cmap = cm.get_cmap('plasma', H)\n"
     ]
    },
    {
     "data": {
      "text/html": [
       "<video controls  width=\"256\"  height=\"256\">\n",
       " <source src=\"data:video/mp4;base64,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\" type=\"video/mp4\">\n",
       " Your browser does not support the video tag.\n",
       " </video>"
      ],
      "text/plain": [
       "<IPython.core.display.Video object>"
      ]
     },
     "execution_count": 46,
     "metadata": {},
     "output_type": "execute_result"
    }
   ],
   "source": [
    "imgs = render_trajectory(df, display_samples=True)\n",
    "\n",
    "vwrite('vis.mp4', imgs)\n",
    "Video('vis.mp4', embed=True, width=256, height=256)"
   ]
  },
  {
   "cell_type": "markdown",
   "metadata": {},
   "source": [
    "## Try to get a multimodality rollout"
   ]
  },
  {
   "cell_type": "code",
   "execution_count": 5,
   "metadata": {},
   "outputs": [],
   "source": [
    "df = pd.DataFrame(rollout_data)"
   ]
  },
  {
   "cell_type": "code",
   "execution_count": 8,
   "metadata": {},
   "outputs": [
    {
     "name": "stderr",
     "output_type": "stream",
     "text": [
      "/tmp/ipykernel_168004/1339846655.py:21: MatplotlibDeprecationWarning: The get_cmap function was deprecated in Matplotlib 3.7 and will be removed two minor releases later. Use ``matplotlib.colormaps[name]`` or ``matplotlib.colormaps.get_cmap(obj)`` instead.\n",
      "  cmap = cm.get_cmap('plasma', H)\n"
     ]
    },
    {
     "data": {
      "text/html": [
       "<video controls  width=\"256\"  height=\"256\">\n",
       " <source src=\"data:video/mp4;base64,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\" type=\"video/mp4\">\n",
       " Your browser does not support the video tag.\n",
       " </video>"
      ],
      "text/plain": [
       "<IPython.core.display.Video object>"
      ]
     },
     "execution_count": 8,
     "metadata": {},
     "output_type": "execute_result"
    }
   ],
   "source": [
    "imgs = render_trajectory(df, display_samples=True)\n",
    "\n",
    "vwrite('vis_multi_mod.mp4', imgs)\n",
    "Video('vis_multi_mod.mp4', embed=True, width=256, height=256)"
   ]
  },
  {
   "cell_type": "code",
   "execution_count": 7,
   "metadata": {},
   "outputs": [
    {
     "name": "stdout",
     "output_type": "stream",
     "text": [
      "File size: 9.31 MB\n"
     ]
    }
   ],
   "source": [
    "# Just checking the size of the files\n",
    "def get_size_mb(path):\n",
    "    \"\"\"Return file size in megabytes (float).\"\"\"\n",
    "    size_bytes = os.path.getsize(path)\n",
    "    size_mb = size_bytes / (1024 * 1024)\n",
    "    return size_mb\n",
    "\n",
    "\n",
    "path = \"logs/datasets/no_domain_randomization_v3/episode_0_failure.pkl\"\n",
    "\n",
    "size_mb = get_size_mb(path)\n",
    "\n",
    "print(f\"File size: {size_mb:.2f} MB\")"
   ]
  },
  {
   "cell_type": "code",
   "execution_count": null,
   "metadata": {},
   "outputs": [],
   "source": []
  }
 ],
 "metadata": {
  "kernelspec": {
   "display_name": "sentinel",
   "language": "python",
   "name": "python3"
  },
  "language_info": {
   "codemirror_mode": {
    "name": "ipython",
    "version": 3
   },
   "file_extension": ".py",
   "mimetype": "text/x-python",
   "name": "python",
   "nbconvert_exporter": "python",
   "pygments_lexer": "ipython3",
   "version": "3.10.13"
  }
 },
 "nbformat": 4,
 "nbformat_minor": 2
}
