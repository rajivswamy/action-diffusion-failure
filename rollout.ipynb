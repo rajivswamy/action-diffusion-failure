{
 "cells": [
  {
   "cell_type": "code",
   "execution_count": 2,
   "metadata": {},
   "outputs": [],
   "source": [
    "#@markdown ### **Imports**\n",
    "# diffusion policy import\n",
    "from typing import Tuple, Sequence, Dict, Union, Optional, Callable\n",
    "import numpy as np\n",
    "import math\n",
    "import torch\n",
    "import torch.nn as nn\n",
    "import torchvision\n",
    "import collections\n",
    "import zarr\n",
    "from diffusers.schedulers.scheduling_ddpm import DDPMScheduler\n",
    "from diffusers.training_utils import EMAModel\n",
    "from diffusers.optimization import get_scheduler\n",
    "from tqdm import tqdm\n",
    "from PIL import Image\n",
    "from skvideo.io import vwrite\n",
    "from IPython.display import Video\n",
    "\n",
    "# data imports\n",
    "from  src.dataset import get_dataset_pusht\n",
    "# model imports\n",
    "from src.policy import get_action_diffusion_model, load_checkpoint \n",
    "# train import\n",
    "from src.train import train_diff_model\n",
    "# env import\n",
    "from src.envs.sim_pusht import PushTImageEnv\n",
    "# rollout import\n",
    "from src.rollout import rollout"
   ]
  },
  {
   "cell_type": "markdown",
   "metadata": {},
   "source": [
    "### Global Config Variables"
   ]
  },
  {
   "cell_type": "code",
   "execution_count": 3,
   "metadata": {},
   "outputs": [],
   "source": [
    "dataset_path = 'demo/pusht_cchi_v7_replay.zarr.zip'\n",
    "pred_horizon = 16\n",
    "obs_horizon = 2\n",
    "action_horizon = 8\n",
    "\n",
    "device = \"cuda\"\n",
    "encoder_name = \"resnet18\"\n",
    "vision_feature_dim = 512\n",
    "lowdim_obs_dim = 2\n",
    "action_dim = 2\n",
    "\n",
    "num_epochs = 100\n",
    "batch_size = 64\n",
    "num_workers = 4\n",
    "num_diffusion_iters = 100"
   ]
  },
  {
   "cell_type": "markdown",
   "metadata": {},
   "source": [
    "### Testing General Env"
   ]
  },
  {
   "cell_type": "code",
   "execution_count": 4,
   "metadata": {},
   "outputs": [
    {
     "name": "stdout",
     "output_type": "stream",
     "text": [
      "Creating PushT Env with seed 0.\n"
     ]
    },
    {
     "data": {
      "image/jpeg": "[encoded data removed]",
      "image/png": "[encoded data removed]",
      "text/plain": [
       "<PIL.Image.Image image mode=RGB size=96x96>"
      ]
     },
     "execution_count": 4,
     "metadata": {},
     "output_type": "execute_result"
    }
   ],
   "source": [
    "env = PushTImageEnv(seed=0)\n",
    "obs, info = env.reset()\n",
    "img = env.render(mode='rgb_array')\n",
    "im = Image.fromarray(img)\n",
    "im"
   ]
  },
  {
   "cell_type": "markdown",
   "metadata": {},
   "source": [
    "### Testing dataset, model, and train functions"
   ]
  },
  {
   "cell_type": "code",
   "execution_count": 5,
   "metadata": {},
   "outputs": [],
   "source": [
    "dataset, stats = get_dataset_pusht(dataset_path, pred_horizon, obs_horizon, action_horizon)"
   ]
  },
  {
   "cell_type": "code",
   "execution_count": 6,
   "metadata": {},
   "outputs": [
    {
     "name": "stdout",
     "output_type": "stream",
     "text": [
      "number of parameters: 7.994727e+07\n",
      "Loaded model from demo/ema_100ep.pt\n"
     ]
    }
   ],
   "source": [
    "checkpoint_path = \"demo/ema_100ep.pt\"\n",
    "\n",
    "nets = get_action_diffusion_model(\n",
    "    device=device,\n",
    "    encoder_name=encoder_name,\n",
    "    vision_feature_dim=vision_feature_dim,\n",
    "    lowdim_obs_dim=lowdim_obs_dim,\n",
    "    action_dim=action_dim,\n",
    "    obs_horizon=obs_horizon\n",
    ")\n",
    "\n",
    "load_checkpoint(model=nets, checkpoint_path=checkpoint_path, device=device)"
   ]
  },
  {
   "cell_type": "code",
   "execution_count": 6,
   "metadata": {},
   "outputs": [
    {
     "name": "stderr",
     "output_type": "stream",
     "text": [
      "Epoch:   0%|          | 0/100 [00:00<?, ?it/s]/home/woodbury/miniforge3/envs/sentinel/lib/python3.10/site-packages/transformers/deepspeed.py:23: FutureWarning: transformers.deepspeed module is deprecated and will be removed in a future version. Please import deepspeed modules directly from transformers.integrations\n",
      "  warnings.warn(\n",
      "Epoch:   0%|          | 0/100 [00:03<?, ?it/s]\n"
     ]
    },
    {
     "ename": "KeyboardInterrupt",
     "evalue": "",
     "output_type": "error",
     "traceback": [
      "\u001b[0;31m---------------------------------------------------------------------------\u001b[0m",
      "\u001b[0;31mKeyboardInterrupt\u001b[0m                         Traceback (most recent call last)",
      "Cell \u001b[0;32mIn[6], line 3\u001b[0m\n\u001b[1;32m      1\u001b[0m logdir \u001b[38;5;241m=\u001b[39m \u001b[38;5;124m\"\u001b[39m\u001b[38;5;124mlogs/train/test_default\u001b[39m\u001b[38;5;124m\"\u001b[39m\n\u001b[0;32m----> 3\u001b[0m nets, losses \u001b[38;5;241m=\u001b[39m \u001b[43mtrain_diff_model\u001b[49m\u001b[43m(\u001b[49m\n\u001b[1;32m      4\u001b[0m \u001b[43m    \u001b[49m\u001b[43mnets\u001b[49m\u001b[38;5;241;43m=\u001b[39;49m\u001b[43mnets\u001b[49m\u001b[43m,\u001b[49m\n\u001b[1;32m      5\u001b[0m \u001b[43m    \u001b[49m\u001b[43mdataset\u001b[49m\u001b[38;5;241;43m=\u001b[39;49m\u001b[43mdataset\u001b[49m\u001b[43m,\u001b[49m\n\u001b[1;32m      6\u001b[0m \u001b[43m    \u001b[49m\u001b[43mlogdir\u001b[49m\u001b[38;5;241;43m=\u001b[39;49m\u001b[43mlogdir\u001b[49m\u001b[43m,\u001b[49m\n\u001b[1;32m      7\u001b[0m \u001b[43m    \u001b[49m\u001b[43mnum_epochs\u001b[49m\u001b[38;5;241;43m=\u001b[39;49m\u001b[43mnum_epochs\u001b[49m\u001b[43m,\u001b[49m\n\u001b[1;32m      8\u001b[0m \u001b[43m    \u001b[49m\u001b[43mbatch_size\u001b[49m\u001b[38;5;241;43m=\u001b[39;49m\u001b[43mbatch_size\u001b[49m\u001b[43m,\u001b[49m\n\u001b[1;32m      9\u001b[0m \u001b[43m    \u001b[49m\u001b[43mnum_workers\u001b[49m\u001b[38;5;241;43m=\u001b[39;49m\u001b[43mnum_workers\u001b[49m\u001b[43m,\u001b[49m\n\u001b[1;32m     10\u001b[0m \u001b[43m    \u001b[49m\u001b[43mdevice\u001b[49m\u001b[38;5;241;43m=\u001b[39;49m\u001b[43mdevice\u001b[49m\u001b[43m,\u001b[49m\n\u001b[1;32m     11\u001b[0m \u001b[43m    \u001b[49m\u001b[43mnum_diffusion_iters\u001b[49m\u001b[38;5;241;43m=\u001b[39;49m\u001b[43mnum_diffusion_iters\u001b[49m\u001b[43m,\u001b[49m\n\u001b[1;32m     12\u001b[0m \u001b[43m    \u001b[49m\u001b[43mobs_horizon\u001b[49m\u001b[38;5;241;43m=\u001b[39;49m\u001b[43mobs_horizon\u001b[49m\n\u001b[1;32m     13\u001b[0m \u001b[43m)\u001b[49m\n",
      "File \u001b[0;32m~/rajiv/action-diffusion-failure/src/train.py:135\u001b[0m, in \u001b[0;36mtrain_diff_model\u001b[0;34m(nets, dataset, logdir, num_epochs, batch_size, num_workers, device, num_diffusion_iters, obs_horizon)\u001b[0m\n\u001b[1;32m    133\u001b[0m                 loss_cpu \u001b[38;5;241m=\u001b[39m loss\u001b[38;5;241m.\u001b[39mitem()\n\u001b[1;32m    134\u001b[0m                 epoch_loss\u001b[38;5;241m.\u001b[39mappend(loss_cpu)\n\u001b[0;32m--> 135\u001b[0m                 \u001b[43mtepoch\u001b[49m\u001b[38;5;241;43m.\u001b[39;49m\u001b[43mset_postfix\u001b[49m\u001b[43m(\u001b[49m\u001b[43mloss\u001b[49m\u001b[38;5;241;43m=\u001b[39;49m\u001b[43mloss_cpu\u001b[49m\u001b[43m)\u001b[49m\n\u001b[1;32m    136\u001b[0m         tglobal\u001b[38;5;241m.\u001b[39mset_postfix(loss\u001b[38;5;241m=\u001b[39mnp\u001b[38;5;241m.\u001b[39mmean(epoch_loss))\n\u001b[1;32m    138\u001b[0m \u001b[38;5;66;03m# Weights of the EMA model\u001b[39;00m\n\u001b[1;32m    139\u001b[0m \u001b[38;5;66;03m# is used for inference\u001b[39;00m\n",
      "File \u001b[0;32m~/miniforge3/envs/sentinel/lib/python3.10/site-packages/tqdm/std.py:1431\u001b[0m, in \u001b[0;36mtqdm.set_postfix\u001b[0;34m(self, ordered_dict, refresh, **kwargs)\u001b[0m\n\u001b[1;32m   1428\u001b[0m \u001b[38;5;28mself\u001b[39m\u001b[38;5;241m.\u001b[39mpostfix \u001b[38;5;241m=\u001b[39m \u001b[38;5;124m'\u001b[39m\u001b[38;5;124m, \u001b[39m\u001b[38;5;124m'\u001b[39m\u001b[38;5;241m.\u001b[39mjoin(key \u001b[38;5;241m+\u001b[39m \u001b[38;5;124m'\u001b[39m\u001b[38;5;124m=\u001b[39m\u001b[38;5;124m'\u001b[39m \u001b[38;5;241m+\u001b[39m postfix[key]\u001b[38;5;241m.\u001b[39mstrip()\n\u001b[1;32m   1429\u001b[0m                          \u001b[38;5;28;01mfor\u001b[39;00m key \u001b[38;5;129;01min\u001b[39;00m postfix\u001b[38;5;241m.\u001b[39mkeys())\n\u001b[1;32m   1430\u001b[0m \u001b[38;5;28;01mif\u001b[39;00m refresh:\n\u001b[0;32m-> 1431\u001b[0m     \u001b[38;5;28;43mself\u001b[39;49m\u001b[38;5;241;43m.\u001b[39;49m\u001b[43mrefresh\u001b[49m\u001b[43m(\u001b[49m\u001b[43m)\u001b[49m\n",
      "File \u001b[0;32m~/miniforge3/envs/sentinel/lib/python3.10/site-packages/tqdm/std.py:1347\u001b[0m, in \u001b[0;36mtqdm.refresh\u001b[0;34m(self, nolock, lock_args)\u001b[0m\n\u001b[1;32m   1345\u001b[0m     \u001b[38;5;28;01melse\u001b[39;00m:\n\u001b[1;32m   1346\u001b[0m         \u001b[38;5;28mself\u001b[39m\u001b[38;5;241m.\u001b[39m_lock\u001b[38;5;241m.\u001b[39macquire()\n\u001b[0;32m-> 1347\u001b[0m \u001b[38;5;28;43mself\u001b[39;49m\u001b[38;5;241;43m.\u001b[39;49m\u001b[43mdisplay\u001b[49m\u001b[43m(\u001b[49m\u001b[43m)\u001b[49m\n\u001b[1;32m   1348\u001b[0m \u001b[38;5;28;01mif\u001b[39;00m \u001b[38;5;129;01mnot\u001b[39;00m nolock:\n\u001b[1;32m   1349\u001b[0m     \u001b[38;5;28mself\u001b[39m\u001b[38;5;241m.\u001b[39m_lock\u001b[38;5;241m.\u001b[39mrelease()\n",
      "File \u001b[0;32m~/miniforge3/envs/sentinel/lib/python3.10/site-packages/tqdm/std.py:1497\u001b[0m, in \u001b[0;36mtqdm.display\u001b[0;34m(self, msg, pos)\u001b[0m\n\u001b[1;32m   1495\u001b[0m \u001b[38;5;28mself\u001b[39m\u001b[38;5;241m.\u001b[39msp(\u001b[38;5;28mself\u001b[39m\u001b[38;5;241m.\u001b[39m\u001b[38;5;21m__str__\u001b[39m() \u001b[38;5;28;01mif\u001b[39;00m msg \u001b[38;5;129;01mis\u001b[39;00m \u001b[38;5;28;01mNone\u001b[39;00m \u001b[38;5;28;01melse\u001b[39;00m msg)\n\u001b[1;32m   1496\u001b[0m \u001b[38;5;28;01mif\u001b[39;00m pos:\n\u001b[0;32m-> 1497\u001b[0m     \u001b[38;5;28;43mself\u001b[39;49m\u001b[38;5;241;43m.\u001b[39;49m\u001b[43mmoveto\u001b[49m\u001b[43m(\u001b[49m\u001b[38;5;241;43m-\u001b[39;49m\u001b[43mpos\u001b[49m\u001b[43m)\u001b[49m\n\u001b[1;32m   1498\u001b[0m \u001b[38;5;28;01mreturn\u001b[39;00m \u001b[38;5;28;01mTrue\u001b[39;00m\n",
      "File \u001b[0;32m~/miniforge3/envs/sentinel/lib/python3.10/site-packages/tqdm/std.py:1443\u001b[0m, in \u001b[0;36mtqdm.moveto\u001b[0;34m(self, n)\u001b[0m\n\u001b[1;32m   1441\u001b[0m \u001b[38;5;28;01mdef\u001b[39;00m \u001b[38;5;21mmoveto\u001b[39m(\u001b[38;5;28mself\u001b[39m, n):\n\u001b[1;32m   1442\u001b[0m     \u001b[38;5;66;03m# TODO: private method\u001b[39;00m\n\u001b[0;32m-> 1443\u001b[0m     \u001b[38;5;28;43mself\u001b[39;49m\u001b[38;5;241;43m.\u001b[39;49m\u001b[43mfp\u001b[49m\u001b[38;5;241;43m.\u001b[39;49m\u001b[43mwrite\u001b[49m\u001b[43m(\u001b[49m\u001b[38;5;124;43m'\u001b[39;49m\u001b[38;5;130;43;01m\\n\u001b[39;49;00m\u001b[38;5;124;43m'\u001b[39;49m\u001b[43m \u001b[49m\u001b[38;5;241;43m*\u001b[39;49m\u001b[43m \u001b[49m\u001b[43mn\u001b[49m\u001b[43m \u001b[49m\u001b[38;5;241;43m+\u001b[39;49m\u001b[43m \u001b[49m\u001b[43m_term_move_up\u001b[49m\u001b[43m(\u001b[49m\u001b[43m)\u001b[49m\u001b[43m \u001b[49m\u001b[38;5;241;43m*\u001b[39;49m\u001b[43m \u001b[49m\u001b[38;5;241;43m-\u001b[39;49m\u001b[43mn\u001b[49m\u001b[43m)\u001b[49m\n\u001b[1;32m   1444\u001b[0m     \u001b[38;5;28mgetattr\u001b[39m(\u001b[38;5;28mself\u001b[39m\u001b[38;5;241m.\u001b[39mfp, \u001b[38;5;124m'\u001b[39m\u001b[38;5;124mflush\u001b[39m\u001b[38;5;124m'\u001b[39m, \u001b[38;5;28;01mlambda\u001b[39;00m: \u001b[38;5;28;01mNone\u001b[39;00m)()\n",
      "File \u001b[0;32m~/miniforge3/envs/sentinel/lib/python3.10/site-packages/tqdm/utils.py:196\u001b[0m, in \u001b[0;36mDisableOnWriteError.disable_on_exception.<locals>.inner\u001b[0;34m(*args, **kwargs)\u001b[0m\n\u001b[1;32m    194\u001b[0m \u001b[38;5;28;01mdef\u001b[39;00m \u001b[38;5;21minner\u001b[39m(\u001b[38;5;241m*\u001b[39margs, \u001b[38;5;241m*\u001b[39m\u001b[38;5;241m*\u001b[39mkwargs):\n\u001b[1;32m    195\u001b[0m     \u001b[38;5;28;01mtry\u001b[39;00m:\n\u001b[0;32m--> 196\u001b[0m         \u001b[38;5;28;01mreturn\u001b[39;00m \u001b[43mfunc\u001b[49m\u001b[43m(\u001b[49m\u001b[38;5;241;43m*\u001b[39;49m\u001b[43margs\u001b[49m\u001b[43m,\u001b[49m\u001b[43m \u001b[49m\u001b[38;5;241;43m*\u001b[39;49m\u001b[38;5;241;43m*\u001b[39;49m\u001b[43mkwargs\u001b[49m\u001b[43m)\u001b[49m\n\u001b[1;32m    197\u001b[0m     \u001b[38;5;28;01mexcept\u001b[39;00m \u001b[38;5;167;01mOSError\u001b[39;00m \u001b[38;5;28;01mas\u001b[39;00m e:\n\u001b[1;32m    198\u001b[0m         \u001b[38;5;28;01mif\u001b[39;00m e\u001b[38;5;241m.\u001b[39merrno \u001b[38;5;241m!=\u001b[39m \u001b[38;5;241m5\u001b[39m:\n",
      "File \u001b[0;32m~/miniforge3/envs/sentinel/lib/python3.10/site-packages/ipykernel/iostream.py:694\u001b[0m, in \u001b[0;36mOutStream.write\u001b[0;34m(self, string)\u001b[0m\n\u001b[1;32m    692\u001b[0m     \u001b[38;5;28mself\u001b[39m\u001b[38;5;241m.\u001b[39mpub_thread\u001b[38;5;241m.\u001b[39mschedule(\u001b[38;5;28mself\u001b[39m\u001b[38;5;241m.\u001b[39m_flush)\n\u001b[1;32m    693\u001b[0m \u001b[38;5;28;01melse\u001b[39;00m:\n\u001b[0;32m--> 694\u001b[0m     \u001b[38;5;28;43mself\u001b[39;49m\u001b[38;5;241;43m.\u001b[39;49m\u001b[43m_schedule_flush\u001b[49m\u001b[43m(\u001b[49m\u001b[43m)\u001b[49m\n\u001b[1;32m    696\u001b[0m \u001b[38;5;28;01mreturn\u001b[39;00m \u001b[38;5;28mlen\u001b[39m(string)\n",
      "File \u001b[0;32m~/miniforge3/envs/sentinel/lib/python3.10/site-packages/ipykernel/iostream.py:590\u001b[0m, in \u001b[0;36mOutStream._schedule_flush\u001b[0;34m(self)\u001b[0m\n\u001b[1;32m    587\u001b[0m \u001b[38;5;28;01mdef\u001b[39;00m \u001b[38;5;21m_schedule_in_thread\u001b[39m():\n\u001b[1;32m    588\u001b[0m     \u001b[38;5;28mself\u001b[39m\u001b[38;5;241m.\u001b[39m_io_loop\u001b[38;5;241m.\u001b[39mcall_later(\u001b[38;5;28mself\u001b[39m\u001b[38;5;241m.\u001b[39mflush_interval, \u001b[38;5;28mself\u001b[39m\u001b[38;5;241m.\u001b[39m_flush)\n\u001b[0;32m--> 590\u001b[0m \u001b[38;5;28;43mself\u001b[39;49m\u001b[38;5;241;43m.\u001b[39;49m\u001b[43mpub_thread\u001b[49m\u001b[38;5;241;43m.\u001b[39;49m\u001b[43mschedule\u001b[49m\u001b[43m(\u001b[49m\u001b[43m_schedule_in_thread\u001b[49m\u001b[43m)\u001b[49m\n",
      "File \u001b[0;32m~/miniforge3/envs/sentinel/lib/python3.10/site-packages/ipykernel/iostream.py:264\u001b[0m, in \u001b[0;36mIOPubThread.schedule\u001b[0;34m(self, f)\u001b[0m\n\u001b[1;32m    259\u001b[0m \u001b[38;5;28;01mdef\u001b[39;00m \u001b[38;5;21mschedule\u001b[39m(\u001b[38;5;28mself\u001b[39m, f):\n\u001b[1;32m    260\u001b[0m \u001b[38;5;250m    \u001b[39m\u001b[38;5;124;03m\"\"\"Schedule a function to be called in our IO thread.\u001b[39;00m\n\u001b[1;32m    261\u001b[0m \n\u001b[1;32m    262\u001b[0m \u001b[38;5;124;03m    If the thread is not running, call immediately.\u001b[39;00m\n\u001b[1;32m    263\u001b[0m \u001b[38;5;124;03m    \"\"\"\u001b[39;00m\n\u001b[0;32m--> 264\u001b[0m     \u001b[38;5;28;01mif\u001b[39;00m \u001b[38;5;28;43mself\u001b[39;49m\u001b[38;5;241;43m.\u001b[39;49m\u001b[43mthread\u001b[49m\u001b[38;5;241;43m.\u001b[39;49m\u001b[43mis_alive\u001b[49m\u001b[43m(\u001b[49m\u001b[43m)\u001b[49m:\n\u001b[1;32m    265\u001b[0m         \u001b[38;5;28mself\u001b[39m\u001b[38;5;241m.\u001b[39m_events\u001b[38;5;241m.\u001b[39mappend(f)\n\u001b[1;32m    266\u001b[0m         \u001b[38;5;66;03m# wake event thread (message content is ignored)\u001b[39;00m\n",
      "File \u001b[0;32m~/miniforge3/envs/sentinel/lib/python3.10/threading.py:1180\u001b[0m, in \u001b[0;36mThread.is_alive\u001b[0;34m(self)\u001b[0m\n\u001b[1;32m   1178\u001b[0m \u001b[38;5;28;01mif\u001b[39;00m \u001b[38;5;28mself\u001b[39m\u001b[38;5;241m.\u001b[39m_is_stopped \u001b[38;5;129;01mor\u001b[39;00m \u001b[38;5;129;01mnot\u001b[39;00m \u001b[38;5;28mself\u001b[39m\u001b[38;5;241m.\u001b[39m_started\u001b[38;5;241m.\u001b[39mis_set():\n\u001b[1;32m   1179\u001b[0m     \u001b[38;5;28;01mreturn\u001b[39;00m \u001b[38;5;28;01mFalse\u001b[39;00m\n\u001b[0;32m-> 1180\u001b[0m \u001b[38;5;28;43mself\u001b[39;49m\u001b[38;5;241;43m.\u001b[39;49m\u001b[43m_wait_for_tstate_lock\u001b[49m\u001b[43m(\u001b[49m\u001b[38;5;28;43;01mFalse\u001b[39;49;00m\u001b[43m)\u001b[49m\n\u001b[1;32m   1181\u001b[0m \u001b[38;5;28;01mreturn\u001b[39;00m \u001b[38;5;129;01mnot\u001b[39;00m \u001b[38;5;28mself\u001b[39m\u001b[38;5;241m.\u001b[39m_is_stopped\n",
      "File \u001b[0;32m~/miniforge3/envs/sentinel/lib/python3.10/threading.py:1102\u001b[0m, in \u001b[0;36mThread._wait_for_tstate_lock\u001b[0;34m(self, block, timeout)\u001b[0m\n\u001b[1;32m   1097\u001b[0m     \u001b[38;5;28;01melse\u001b[39;00m:\n\u001b[1;32m   1098\u001b[0m         \u001b[38;5;66;03m# the behavior of a negative timeout isn't documented, but\u001b[39;00m\n\u001b[1;32m   1099\u001b[0m         \u001b[38;5;66;03m# historically .join(timeout=x) for x<0 has acted as if timeout=0\u001b[39;00m\n\u001b[1;32m   1100\u001b[0m         \u001b[38;5;28mself\u001b[39m\u001b[38;5;241m.\u001b[39m_wait_for_tstate_lock(timeout\u001b[38;5;241m=\u001b[39m\u001b[38;5;28mmax\u001b[39m(timeout, \u001b[38;5;241m0\u001b[39m))\n\u001b[0;32m-> 1102\u001b[0m \u001b[38;5;28;01mdef\u001b[39;00m \u001b[38;5;21m_wait_for_tstate_lock\u001b[39m(\u001b[38;5;28mself\u001b[39m, block\u001b[38;5;241m=\u001b[39m\u001b[38;5;28;01mTrue\u001b[39;00m, timeout\u001b[38;5;241m=\u001b[39m\u001b[38;5;241m-\u001b[39m\u001b[38;5;241m1\u001b[39m):\n\u001b[1;32m   1103\u001b[0m     \u001b[38;5;66;03m# Issue #18808: wait for the thread state to be gone.\u001b[39;00m\n\u001b[1;32m   1104\u001b[0m     \u001b[38;5;66;03m# At the end of the thread's life, after all knowledge of the thread\u001b[39;00m\n\u001b[1;32m   1105\u001b[0m     \u001b[38;5;66;03m# is removed from C data structures, C code releases our _tstate_lock.\u001b[39;00m\n\u001b[1;32m   1106\u001b[0m     \u001b[38;5;66;03m# This method passes its arguments to _tstate_lock.acquire().\u001b[39;00m\n\u001b[1;32m   1107\u001b[0m     \u001b[38;5;66;03m# If the lock is acquired, the C code is done, and self._stop() is\u001b[39;00m\n\u001b[1;32m   1108\u001b[0m     \u001b[38;5;66;03m# called.  That sets ._is_stopped to True, and ._tstate_lock to None.\u001b[39;00m\n\u001b[1;32m   1109\u001b[0m     lock \u001b[38;5;241m=\u001b[39m \u001b[38;5;28mself\u001b[39m\u001b[38;5;241m.\u001b[39m_tstate_lock\n\u001b[1;32m   1110\u001b[0m     \u001b[38;5;28;01mif\u001b[39;00m lock \u001b[38;5;129;01mis\u001b[39;00m \u001b[38;5;28;01mNone\u001b[39;00m:\n\u001b[1;32m   1111\u001b[0m         \u001b[38;5;66;03m# already determined that the C code is done\u001b[39;00m\n",
      "\u001b[0;31mKeyboardInterrupt\u001b[0m: "
     ]
    }
   ],
   "source": [
    "logdir = \"logs/train/test_default\"\n",
    "\n",
    "nets, losses = train_diff_model(\n",
    "    nets=nets,\n",
    "    dataset=dataset,\n",
    "    logdir=logdir,\n",
    "    num_epochs=num_epochs,\n",
    "    batch_size=batch_size,\n",
    "    num_workers=num_workers,\n",
    "    device=device,\n",
    "    num_diffusion_iters=num_diffusion_iters,\n",
    "    obs_horizon=obs_horizon\n",
    ")"
   ]
  },
  {
   "cell_type": "markdown",
   "metadata": {},
   "source": [
    "### Testing the roll out code"
   ]
  },
  {
   "cell_type": "code",
   "execution_count": 7,
   "metadata": {},
   "outputs": [
    {
     "name": "stdout",
     "output_type": "stream",
     "text": [
      "number of parameters: 7.994727e+07\n",
      "Loaded model from demo/ema_100ep.pt\n",
      "Creating PushT Env with seed 100000.\n"
     ]
    },
    {
     "name": "stderr",
     "output_type": "stream",
     "text": [
      "Eval PushTImageEnv: 201it [00:21,  9.24it/s, reward=0.657]                         \n"
     ]
    },
    {
     "data": {
      "text/html": [
       "<video controls  width=\"256\"  height=\"256\">\n",
       " <source src=\"data:video/mp4;base64,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\" type=\"video/mp4\">\n",
       " Your browser does not support the video tag.\n",
       " </video>"
      ],
      "text/plain": [
       "<IPython.core.display.Video object>"
      ]
     },
     "execution_count": 7,
     "metadata": {},
     "output_type": "execute_result"
    }
   ],
   "source": [
    "# load the trained model\n",
    "checkpoint_path = \"demo/ema_100ep.pt\"\n",
    "\n",
    "nets = get_action_diffusion_model(\n",
    "    device=device,\n",
    "    encoder_name=encoder_name,\n",
    "    vision_feature_dim=vision_feature_dim,\n",
    "    lowdim_obs_dim=lowdim_obs_dim,\n",
    "    action_dim=action_dim,\n",
    "    obs_horizon=obs_horizon\n",
    ")\n",
    "\n",
    "load_checkpoint(model=nets, checkpoint_path=checkpoint_path, device=device)\n",
    "\n",
    "# init the environment\n",
    "env = PushTImageEnv(seed=100000)\n",
    "\n",
    "\n",
    "rollout_data = rollout(ema_nets=nets,\n",
    "                       env=env,\n",
    "                       stats=stats,\n",
    "                       max_steps=200,\n",
    "                       obs_horizon=obs_horizon,\n",
    "                       pred_horizon=pred_horizon,\n",
    "                       device=device,\n",
    "                       num_diffusion_iters=num_diffusion_iters,\n",
    "                       action_dim=action_dim,\n",
    "                       trajectory_sample_size=128)\n",
    "\n",
    "# visualize the video\n",
    "imgs = rollout_data['images']\n",
    "\n",
    "vwrite('vis.mp4', imgs)\n",
    "Video('vis.mp4', embed=True, width=256, height=256)"
   ]
  },
  {
   "cell_type": "code",
   "execution_count": 9,
   "metadata": {},
   "outputs": [
    {
     "name": "stdout",
     "output_type": "stream",
     "text": [
      "timesteps 201 <class 'int'>\n",
      "images 201 <class 'numpy.ndarray'>\n",
      "rewards 201 <class 'numpy.float64'>\n",
      "sampled_trajectories 201 <class 'numpy.ndarray'>\n",
      "actions 201 <class 'numpy.ndarray'>\n",
      "agent_positions 201 <class 'numpy.ndarray'>\n",
      "agent_velocities 201 <class 'numpy.ndarray'>\n",
      "block_poses 201 <class 'numpy.ndarray'>\n",
      "goal_poses 201 <class 'numpy.ndarray'>\n",
      "step_image_features 201 <class 'numpy.ndarray'>\n"
     ]
    }
   ],
   "source": [
    "# check the length of each key in the data\n",
    "for k, v in rollout_data.items():\n",
    "    print(k, len(v), type(v[0]))"
   ]
  },
  {
   "cell_type": "code",
   "execution_count": 10,
   "metadata": {},
   "outputs": [],
   "source": [
    "import pandas as pd"
   ]
  },
  {
   "cell_type": "code",
   "execution_count": 11,
   "metadata": {},
   "outputs": [],
   "source": [
    "df = pd.DataFrame(rollout_data)"
   ]
  },
  {
   "cell_type": "code",
   "execution_count": 12,
   "metadata": {},
   "outputs": [
    {
     "data": {
      "text/plain": [
       "Index(['timesteps', 'images', 'rewards', 'sampled_trajectories', 'actions',\n",
       "       'agent_positions', 'agent_velocities', 'block_poses', 'goal_poses',\n",
       "       'step_image_features'],\n",
       "      dtype='object')"
      ]
     },
     "execution_count": 12,
     "metadata": {},
     "output_type": "execute_result"
    }
   ],
   "source": [
    "df.columns"
   ]
  },
  {
   "cell_type": "code",
   "execution_count": 17,
   "metadata": {},
   "outputs": [
    {
     "data": {
      "text/plain": [
       "NoneType"
      ]
     },
     "execution_count": 17,
     "metadata": {},
     "output_type": "execute_result"
    }
   ],
   "source": [
    "type(df.sampled_trajectories[1])"
   ]
  },
  {
   "cell_type": "code",
   "execution_count": null,
   "metadata": {},
   "outputs": [],
   "source": []
  }
 ],
 "metadata": {
  "kernelspec": {
   "display_name": "sentinel",
   "language": "python",
   "name": "python3"
  },
  "language_info": {
   "codemirror_mode": {
    "name": "ipython",
    "version": 3
   },
   "file_extension": ".py",
   "mimetype": "text/x-python",
   "name": "python",
   "nbconvert_exporter": "python",
   "pygments_lexer": "ipython3",
   "version": "3.10.13"
  }
 },
 "nbformat": 4,
 "nbformat_minor": 2
}
